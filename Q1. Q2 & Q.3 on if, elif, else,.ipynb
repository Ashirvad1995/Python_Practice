{
 "cells": [
  {
   "cell_type": "code",
   "execution_count": 1,
   "id": "0d201a7e",
   "metadata": {},
   "outputs": [
    {
     "name": "stdout",
     "output_type": "stream",
     "text": [
      "Given number is divisible by 7\n"
     ]
    }
   ],
   "source": [
    "# 1.Check whether the number is divisible by 7\n",
    "x = 21\n",
    "\n",
    "y = x%7\n",
    "\n",
    "if y == 0 :\n",
    "    \n",
    "    print(\"Given number is divisible by 7\")\n",
    "    \n",
    "else:\n",
    "    \n",
    "    print(\"Given number is not divisible by 7\")\n",
    "    "
   ]
  },
  {
   "cell_type": "code",
   "execution_count": 3,
   "id": "89ac813f",
   "metadata": {},
   "outputs": [
    {
     "name": "stdout",
     "output_type": "stream",
     "text": [
      "Enter your number :24\n",
      "Given number is Even\n"
     ]
    }
   ],
   "source": [
    "# 2. Check whether the given number is even or odd\n",
    "\n",
    "x = float(input(\"Enter your number :\"))\n",
    "\n",
    "if x%2==0:\n",
    "\n",
    "    print(\"Given number is Even\")\n",
    "\n",
    "else:\n",
    "    print(\"Given number is odd\")\n",
    "    "
   ]
  },
  {
   "cell_type": "code",
   "execution_count": 13,
   "id": "26a5ea46",
   "metadata": {},
   "outputs": [
    {
     "name": "stdout",
     "output_type": "stream",
     "text": [
      "Enter your number -5\n",
      "Given number is negative\n"
     ]
    }
   ],
   "source": [
    "# 3. Check whether the given number is positive, negative or equal to zero(input)\n",
    "x = int(input(\"Enter your number \"))\n",
    "\n",
    "if x>0:\n",
    "    print(\"Given number is positive\")\n",
    "elif x == 0:\n",
    "    print(\"given number is equal to zero\")\n",
    "else:\n",
    "    print(\"Given number is negative\")"
   ]
  },
  {
   "cell_type": "code",
   "execution_count": null,
   "id": "42b9d204",
   "metadata": {},
   "outputs": [],
   "source": []
  }
 ],
 "metadata": {
  "kernelspec": {
   "display_name": "Python 3 (ipykernel)",
   "language": "python",
   "name": "python3"
  },
  "language_info": {
   "codemirror_mode": {
    "name": "ipython",
    "version": 3
   },
   "file_extension": ".py",
   "mimetype": "text/x-python",
   "name": "python",
   "nbconvert_exporter": "python",
   "pygments_lexer": "ipython3",
   "version": "3.9.7"
  }
 },
 "nbformat": 4,
 "nbformat_minor": 5
}

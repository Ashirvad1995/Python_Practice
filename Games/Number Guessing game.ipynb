{
 "cells": [
  {
   "cell_type": "code",
   "execution_count": 5,
   "id": "1846822b",
   "metadata": {},
   "outputs": [
    {
     "name": "stdout",
     "output_type": "stream",
     "text": [
      "Enter your number : 999\n",
      "Computer number :  619\n",
      "Your number is too high\n"
     ]
    }
   ],
   "source": [
    "import random\n",
    "\n",
    "Cnumber = random.randrange(1,999)\n",
    "Usnumber = int(input(\"Enter your number : \"))\n",
    "\n",
    "if Usnumber>Cnumber:\n",
    "    print(\"Computer number : \", Cnumber)\n",
    "    print(\"Your number is too high\")\n",
    "elif Cnumber>Usnumber:\n",
    "    print(\"Computer number : \", Cnumber)\n",
    "    print(\"Your number is too low\")\n",
    "else:\n",
    "    print(\"Computer number : \", Cnumber)\n",
    "    print(\"your number is equale\")"
   ]
  },
  {
   "cell_type": "code",
   "execution_count": null,
   "id": "8e66ed1d",
   "metadata": {},
   "outputs": [],
   "source": []
  }
 ],
 "metadata": {
  "kernelspec": {
   "display_name": "Python 3 (ipykernel)",
   "language": "python",
   "name": "python3"
  },
  "language_info": {
   "codemirror_mode": {
    "name": "ipython",
    "version": 3
   },
   "file_extension": ".py",
   "mimetype": "text/x-python",
   "name": "python",
   "nbconvert_exporter": "python",
   "pygments_lexer": "ipython3",
   "version": "3.9.7"
  }
 },
 "nbformat": 4,
 "nbformat_minor": 5
}

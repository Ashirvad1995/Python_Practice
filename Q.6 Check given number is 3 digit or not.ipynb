{
 "cells": [
  {
   "cell_type": "code",
   "execution_count": 1,
   "id": "f02c0095",
   "metadata": {},
   "outputs": [],
   "source": [
    "#6. Write a program to check whether the number entered is three digit or not."
   ]
  },
  {
   "cell_type": "code",
   "execution_count": 3,
   "id": "bdcae4c5",
   "metadata": {},
   "outputs": [
    {
     "name": "stdout",
     "output_type": "stream",
     "text": [
      "enter your number : 456\n",
      "Given number is three digit.\n"
     ]
    }
   ],
   "source": [
    "x = input(\"enter your number : \")\n",
    "y = len(x)\n",
    "\n",
    "if y == 3:\n",
    "    print(\"Given number is three digit.\")\n",
    "else:\n",
    "    print(\"Given number is not a three digit.\")"
   ]
  },
  {
   "cell_type": "code",
   "execution_count": null,
   "id": "b63beb67",
   "metadata": {},
   "outputs": [],
   "source": []
  }
 ],
 "metadata": {
  "kernelspec": {
   "display_name": "Python 3 (ipykernel)",
   "language": "python",
   "name": "python3"
  },
  "language_info": {
   "codemirror_mode": {
    "name": "ipython",
    "version": 3
   },
   "file_extension": ".py",
   "mimetype": "text/x-python",
   "name": "python",
   "nbconvert_exporter": "python",
   "pygments_lexer": "ipython3",
   "version": "3.9.7"
  }
 },
 "nbformat": 4,
 "nbformat_minor": 5
}

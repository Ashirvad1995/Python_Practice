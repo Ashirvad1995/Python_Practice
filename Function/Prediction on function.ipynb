{
 "cells": [
  {
   "cell_type": "code",
   "execution_count": 1,
   "id": "9fad0cbd",
   "metadata": {},
   "outputs": [
    {
     "name": "stdout",
     "output_type": "stream",
     "text": [
      "4\n",
      "4\n"
     ]
    }
   ],
   "source": [
    "#1.  Write the output of the following :\n",
    "def s(n1):\n",
    "     print(n1)\n",
    "     n1 = n1 +2\n",
    "n2=4\n",
    "s(n2)\n",
    "print(n2)\n"
   ]
  },
  {
   "cell_type": "code",
   "execution_count": 4,
   "id": "3aebb688",
   "metadata": {},
   "outputs": [
    {
     "name": "stdout",
     "output_type": "stream",
     "text": [
      "18\n"
     ]
    }
   ],
   "source": [
    "#2. Write the output of the following:\n",
    "def cal(m,n):\n",
    "     if m==n:\n",
    "          return m*3\n",
    "\n",
    "     else:\n",
    "          return m*2\n",
    "s = cal(9, 8)\n",
    "print(s)"
   ]
  },
  {
   "cell_type": "code",
   "execution_count": 9,
   "id": "39ba1650",
   "metadata": {},
   "outputs": [
    {
     "name": "stdout",
     "output_type": "stream",
     "text": [
      "1\n"
     ]
    }
   ],
   "source": [
    "# 3.Write the output of the following:\n",
    "def check():\n",
    "   i = 5\n",
    "   while i > 1:\n",
    "         if i //2==0:\n",
    "              x = i + 2\n",
    "              i = i-1\n",
    "         else:\n",
    "             i = i-2\n",
    "             x = i\n",
    "   print (x)\n",
    "check()\n"
   ]
  },
  {
   "cell_type": "code",
   "execution_count": 12,
   "id": "afdc8ffe",
   "metadata": {},
   "outputs": [
    {
     "name": "stdout",
     "output_type": "stream",
     "text": [
      "3 5 5 "
     ]
    }
   ],
   "source": [
    "# 4. What will be the output of the following code?\n",
    "x = 3\n",
    "def myfunc():\n",
    "      global x\n",
    "      x+=2\n",
    "      print(x, end=' ')\n",
    "print(x, end=' ')\n",
    "myfunc()\n",
    "print(x, end=' ')\n"
   ]
  },
  {
   "cell_type": "code",
   "execution_count": 15,
   "id": "785c9e83",
   "metadata": {},
   "outputs": [
    {
     "name": "stdout",
     "output_type": "stream",
     "text": [
      "50#5\n"
     ]
    }
   ],
   "source": [
    "# 5. What will be the output of the following code?\n",
    "value = 50\n",
    "def display(N):\n",
    "     global value\n",
    "     value = 25\n",
    "     if N%7==0:\n",
    "           value = value + N\n",
    "     else:\n",
    "           value = value - N\n",
    "print(value, end=\"#\")\n",
    "display(20)\n",
    "print(value)\n"
   ]
  },
  {
   "cell_type": "code",
   "execution_count": 16,
   "id": "fc28df53",
   "metadata": {},
   "outputs": [
    {
     "name": "stdout",
     "output_type": "stream",
     "text": [
      "5#8#5#4#"
     ]
    }
   ],
   "source": [
    "#6. What is the output of the following code snippet?\n",
    "def ChangeVal(M,N):\n",
    "     for i in range(N):\n",
    "          if M[i]%5 == 0:\n",
    "               M[i]//=5\n",
    "          if M[i]%3 == 0:\n",
    "               M[i]//=3\n",
    "L = [25,8,75,12]\n",
    "ChangeVal(L,4)\n",
    "for i in L:\n",
    "     print(i,end=\"#\")"
   ]
  },
  {
   "cell_type": "code",
   "execution_count": 17,
   "id": "ddccdc1d",
   "metadata": {},
   "outputs": [
    {
     "name": "stdout",
     "output_type": "stream",
     "text": [
      "5\n"
     ]
    }
   ],
   "source": [
    "x = 75//15\n",
    "print(x)"
   ]
  },
  {
   "cell_type": "code",
   "execution_count": 18,
   "id": "5554bd26",
   "metadata": {},
   "outputs": [
    {
     "name": "stdout",
     "output_type": "stream",
     "text": [
      "15\n"
     ]
    }
   ],
   "source": [
    "#7. Write the output of the following:\n",
    "def c(x, y):\n",
    "    if x % y :\n",
    "         return x+5\n",
    "    else:\n",
    "        return y+10\n",
    "print(c(20, 5))\n"
   ]
  },
  {
   "cell_type": "code",
   "execution_count": null,
   "id": "bff4a6f2",
   "metadata": {},
   "outputs": [],
   "source": []
  }
 ],
 "metadata": {
  "kernelspec": {
   "display_name": "Python 3 (ipykernel)",
   "language": "python",
   "name": "python3"
  },
  "language_info": {
   "codemirror_mode": {
    "name": "ipython",
    "version": 3
   },
   "file_extension": ".py",
   "mimetype": "text/x-python",
   "name": "python",
   "nbconvert_exporter": "python",
   "pygments_lexer": "ipython3",
   "version": "3.9.7"
  }
 },
 "nbformat": 4,
 "nbformat_minor": 5
}

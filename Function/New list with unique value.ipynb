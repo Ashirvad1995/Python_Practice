{
 "cells": [
  {
   "cell_type": "code",
   "execution_count": 1,
   "id": "e7360878",
   "metadata": {},
   "outputs": [
    {
     "name": "stdout",
     "output_type": "stream",
     "text": [
      "[1, 55, 89, 5, 9, 6]\n"
     ]
    }
   ],
   "source": [
    "# 3. Write a python function that takes a list and returns a new list with unique elements of the first list.\n",
    "\n",
    "def function_1(nums):\n",
    "    list1 = []\n",
    "    for n in nums:\n",
    "        if n not in list1:\n",
    "            list1.append(n)\n",
    "    return list1\n",
    "print(function_1([1,55,89,5,5,9,9,5,6]))"
   ]
  },
  {
   "cell_type": "code",
   "execution_count": null,
   "id": "6f31a400",
   "metadata": {},
   "outputs": [],
   "source": []
  }
 ],
 "metadata": {
  "kernelspec": {
   "display_name": "Python 3 (ipykernel)",
   "language": "python",
   "name": "python3"
  },
  "language_info": {
   "codemirror_mode": {
    "name": "ipython",
    "version": 3
   },
   "file_extension": ".py",
   "mimetype": "text/x-python",
   "name": "python",
   "nbconvert_exporter": "python",
   "pygments_lexer": "ipython3",
   "version": "3.9.7"
  }
 },
 "nbformat": 4,
 "nbformat_minor": 5
}

{
 "cells": [
  {
   "cell_type": "code",
   "execution_count": 1,
   "id": "415d0842",
   "metadata": {},
   "outputs": [
    {
     "name": "stdout",
     "output_type": "stream",
     "text": [
      "Ashirvad\n"
     ]
    }
   ],
   "source": [
    "a=\"Ashirvad\"\n",
    "print(a)"
   ]
  },
  {
   "cell_type": "code",
   "execution_count": 2,
   "id": "c0ed1c01",
   "metadata": {},
   "outputs": [
    {
     "name": "stdout",
     "output_type": "stream",
     "text": [
      "Desai\n"
     ]
    }
   ],
   "source": [
    "b=\"Desai\"\n",
    "print(b)"
   ]
  },
  {
   "cell_type": "code",
   "execution_count": 3,
   "id": "5f4c718e",
   "metadata": {},
   "outputs": [
    {
     "name": "stdout",
     "output_type": "stream",
     "text": [
      "AshirvadDesai\n"
     ]
    }
   ],
   "source": [
    "print(a+b)"
   ]
  },
  {
   "cell_type": "code",
   "execution_count": 8,
   "id": "abf38920",
   "metadata": {},
   "outputs": [],
   "source": [
    "c=\" \""
   ]
  },
  {
   "cell_type": "code",
   "execution_count": 11,
   "id": "929f44f0",
   "metadata": {},
   "outputs": [
    {
     "name": "stdout",
     "output_type": "stream",
     "text": [
      "Ashirvad Desai\n"
     ]
    }
   ],
   "source": [
    "print(a+\" \"+b)"
   ]
  },
  {
   "cell_type": "code",
   "execution_count": 10,
   "id": "df326424",
   "metadata": {},
   "outputs": [
    {
     "name": "stdout",
     "output_type": "stream",
     "text": [
      "Ashirvad Desai\n"
     ]
    }
   ],
   "source": [
    "print(a,b)"
   ]
  },
  {
   "cell_type": "code",
   "execution_count": 12,
   "id": "b428939b",
   "metadata": {},
   "outputs": [
    {
     "name": "stdout",
     "output_type": "stream",
     "text": [
      "20\n"
     ]
    }
   ],
   "source": [
    "d=20\n",
    "print(d)"
   ]
  },
  {
   "cell_type": "code",
   "execution_count": 13,
   "id": "745a9863",
   "metadata": {},
   "outputs": [
    {
     "name": "stdout",
     "output_type": "stream",
     "text": [
      "50\n"
     ]
    }
   ],
   "source": [
    "e=50\n",
    "print(e)\n"
   ]
  },
  {
   "cell_type": "code",
   "execution_count": 14,
   "id": "b6aacba9",
   "metadata": {},
   "outputs": [
    {
     "name": "stdout",
     "output_type": "stream",
     "text": [
      "70\n"
     ]
    }
   ],
   "source": [
    "print(d+e)"
   ]
  },
  {
   "cell_type": "code",
   "execution_count": 15,
   "id": "d1ddd074",
   "metadata": {},
   "outputs": [
    {
     "name": "stdout",
     "output_type": "stream",
     "text": [
      "apple50\n"
     ]
    }
   ],
   "source": [
    "f=\"apple\"\n",
    "g=\"50\"\n",
    "print(f+g)\n"
   ]
  },
  {
   "cell_type": "code",
   "execution_count": 18,
   "id": "bfc7bc91",
   "metadata": {},
   "outputs": [
    {
     "name": "stdout",
     "output_type": "stream",
     "text": [
      "Enter your name :Ashirvad\n",
      "My name is Ashirvad\n"
     ]
    }
   ],
   "source": [
    "my_name = input(\"Enter your name :\")\n",
    "print(\"My name is\",my_name)"
   ]
  },
  {
   "cell_type": "code",
   "execution_count": 17,
   "id": "ea309b0d",
   "metadata": {},
   "outputs": [
    {
     "data": {
      "text/plain": [
       "str"
      ]
     },
     "execution_count": 17,
     "metadata": {},
     "output_type": "execute_result"
    }
   ],
   "source": [
    "type(my_name)"
   ]
  },
  {
   "cell_type": "code",
   "execution_count": 20,
   "id": "7cda2e38",
   "metadata": {},
   "outputs": [
    {
     "name": "stdout",
     "output_type": "stream",
     "text": [
      "Enter your number:25\n",
      "My favourite number is 25\n"
     ]
    }
   ],
   "source": [
    "my_number = input(\"Enter your number:\")\n",
    "print(\"My favourite number is\",my_number)"
   ]
  },
  {
   "cell_type": "code",
   "execution_count": 21,
   "id": "98e1e6d5",
   "metadata": {},
   "outputs": [
    {
     "data": {
      "text/plain": [
       "str"
      ]
     },
     "execution_count": 21,
     "metadata": {},
     "output_type": "execute_result"
    }
   ],
   "source": [
    "type(my_number)"
   ]
  },
  {
   "cell_type": "code",
   "execution_count": 22,
   "id": "4468ec19",
   "metadata": {},
   "outputs": [
    {
     "name": "stdout",
     "output_type": "stream",
     "text": [
      "Enter your number :50\n",
      "My favourite number is 50\n"
     ]
    }
   ],
   "source": [
    "my_number1 = int(input(\"Enter your number :\"))\n",
    "print(\"My favourite number is\",my_number1)"
   ]
  },
  {
   "cell_type": "code",
   "execution_count": 23,
   "id": "641e082b",
   "metadata": {},
   "outputs": [
    {
     "data": {
      "text/plain": [
       "int"
      ]
     },
     "execution_count": 23,
     "metadata": {},
     "output_type": "execute_result"
    }
   ],
   "source": [
    "type(my_number1)"
   ]
  },
  {
   "cell_type": "code",
   "execution_count": 24,
   "id": "4851d39e",
   "metadata": {},
   "outputs": [
    {
     "name": "stdout",
     "output_type": "stream",
     "text": [
      "Enter Number :9.99\n",
      "My favourite number is 9.99\n"
     ]
    }
   ],
   "source": [
    "my_number2 = float(input(\"Enter Number :\"))\n",
    "print(\"My favourite number is\",my_number2)"
   ]
  },
  {
   "cell_type": "code",
   "execution_count": 25,
   "id": "d21e3875",
   "metadata": {},
   "outputs": [
    {
     "data": {
      "text/plain": [
       "float"
      ]
     },
     "execution_count": 25,
     "metadata": {},
     "output_type": "execute_result"
    }
   ],
   "source": [
    "type(my_number2)"
   ]
  },
  {
   "cell_type": "code",
   "execution_count": 26,
   "id": "484873be",
   "metadata": {},
   "outputs": [
    {
     "name": "stdout",
     "output_type": "stream",
     "text": [
      "59.99\n"
     ]
    }
   ],
   "source": [
    "print(my_number1+my_number2)"
   ]
  },
  {
   "cell_type": "code",
   "execution_count": 27,
   "id": "4d72a440",
   "metadata": {},
   "outputs": [
    {
     "name": "stdout",
     "output_type": "stream",
     "text": [
      "50 9.99\n"
     ]
    }
   ],
   "source": [
    "print(my_number1,my_number2)"
   ]
  },
  {
   "cell_type": "code",
   "execution_count": 1,
   "id": "21f64199",
   "metadata": {},
   "outputs": [
    {
     "name": "stdout",
     "output_type": "stream",
     "text": [
      "Enter marks in maths87\n",
      "enter marks in physics78\n",
      "enter marks in english60\n",
      "enter marks in chemistry80\n",
      "enter marks in marathi90\n",
      "Ashirvad got the 79.0 percentage\n"
     ]
    }
   ],
   "source": [
    "ab = int(input(\"Enter marks in maths\"))\n",
    "cd = int(input(\"enter marks in physics\"))\n",
    "ef = int(input(\"enter marks in english\"))\n",
    "cm = int(input(\"enter marks in chemistry\"))\n",
    "mt = int(input(\"enter marks in marathi\"))\n",
    "total = 500\n",
    "add = ab+cd+ef+cm+mt\n",
    "percentage = (add/total)*100\n",
    "print(\"Ashirvad got the\", percentage, \"percentage\")\n",
    "\n"
   ]
  },
  {
   "cell_type": "code",
   "execution_count": 1,
   "id": "c59292f7",
   "metadata": {},
   "outputs": [
    {
     "name": "stdout",
     "output_type": "stream",
     "text": [
      "30\n"
     ]
    }
   ],
   "source": [
    "#Addition(+)\n",
    "x=20\n",
    "b=10\n",
    "print(x+b)\n"
   ]
  },
  {
   "cell_type": "code",
   "execution_count": 2,
   "id": "31f15d03",
   "metadata": {},
   "outputs": [
    {
     "name": "stdout",
     "output_type": "stream",
     "text": [
      "10\n"
     ]
    }
   ],
   "source": [
    "#Substraction(-)\n",
    "print(x-b)"
   ]
  },
  {
   "cell_type": "code",
   "execution_count": 3,
   "id": "fb3fecbc",
   "metadata": {},
   "outputs": [
    {
     "name": "stdout",
     "output_type": "stream",
     "text": [
      "200\n"
     ]
    }
   ],
   "source": [
    "#Multiplication(*)\n",
    "print(x*b)"
   ]
  },
  {
   "cell_type": "code",
   "execution_count": 5,
   "id": "df1f59f3",
   "metadata": {},
   "outputs": [
    {
     "name": "stdout",
     "output_type": "stream",
     "text": [
      "2.0\n"
     ]
    }
   ],
   "source": [
    "#Division(/)\n",
    "print(x/b)"
   ]
  },
  {
   "cell_type": "code",
   "execution_count": 6,
   "id": "fa31d1d7",
   "metadata": {},
   "outputs": [
    {
     "name": "stdout",
     "output_type": "stream",
     "text": [
      "6.006006006006006\n",
      "6.0\n"
     ]
    }
   ],
   "source": [
    "#Floor Division(//)\n",
    "y=3.33\n",
    "#normal division\n",
    "print(x/y)\n",
    "#floor division\n",
    "print(x//y)"
   ]
  },
  {
   "cell_type": "code",
   "execution_count": 8,
   "id": "125ea636",
   "metadata": {},
   "outputs": [
    {
     "name": "stdout",
     "output_type": "stream",
     "text": [
      "2\n"
     ]
    }
   ],
   "source": [
    "#Modulus(%)\n",
    "print(x%6)"
   ]
  },
  {
   "cell_type": "code",
   "execution_count": 11,
   "id": "ba2f2cd2",
   "metadata": {},
   "outputs": [
    {
     "name": "stdout",
     "output_type": "stream",
     "text": [
      "36\n"
     ]
    }
   ],
   "source": [
    "#Exponent(**)\n",
    "print(6**2)"
   ]
  },
  {
   "cell_type": "code",
   "execution_count": 12,
   "id": "86bf6aa6",
   "metadata": {},
   "outputs": [
    {
     "name": "stdout",
     "output_type": "stream",
     "text": [
      "True\n",
      "False\n"
     ]
    }
   ],
   "source": [
    "#Relational Operator\n",
    "#Greater than(>)\n",
    "print(x>b)\n",
    "print(b>x)"
   ]
  },
  {
   "cell_type": "code",
   "execution_count": 13,
   "id": "5a83380a",
   "metadata": {},
   "outputs": [
    {
     "name": "stdout",
     "output_type": "stream",
     "text": [
      "True\n",
      "False\n"
     ]
    }
   ],
   "source": [
    "#Less than(<)\n",
    "print(b<x)\n",
    "print(x<b)"
   ]
  },
  {
   "cell_type": "code",
   "execution_count": 15,
   "id": "92580c42",
   "metadata": {},
   "outputs": [
    {
     "name": "stdout",
     "output_type": "stream",
     "text": [
      "True\n",
      "False\n"
     ]
    }
   ],
   "source": [
    "#Equal to(==)\n",
    "print(x==20)\n",
    "print(b==x)"
   ]
  },
  {
   "cell_type": "code",
   "execution_count": 17,
   "id": "66725507",
   "metadata": {},
   "outputs": [
    {
     "name": "stdout",
     "output_type": "stream",
     "text": [
      "True\n",
      "False\n"
     ]
    }
   ],
   "source": [
    "#Not Equal to(!=)\n",
    "print(x!=b)\n",
    "print(x!=20)"
   ]
  },
  {
   "cell_type": "code",
   "execution_count": 21,
   "id": "869f414e",
   "metadata": {},
   "outputs": [
    {
     "name": "stdout",
     "output_type": "stream",
     "text": [
      "True\n",
      "True\n"
     ]
    }
   ],
   "source": [
    "#Graeter than Equal to(>=)\n",
    "print(x>=b)\n",
    "print(x>=10)"
   ]
  },
  {
   "cell_type": "code",
   "execution_count": 23,
   "id": "b71f9e89",
   "metadata": {},
   "outputs": [
    {
     "name": "stdout",
     "output_type": "stream",
     "text": [
      "True\n",
      "True\n"
     ]
    }
   ],
   "source": [
    "#Less than Equal to(<=)\n",
    "print(b<=x)\n",
    "print(b<=10)"
   ]
  },
  {
   "cell_type": "code",
   "execution_count": 8,
   "id": "87b229a5",
   "metadata": {},
   "outputs": [
    {
     "name": "stdout",
     "output_type": "stream",
     "text": [
      "470\n",
      "760\n"
     ]
    }
   ],
   "source": [
    "#Assignment Operator\n",
    "#1. Assign(=) means simple assign the number in variable\n",
    "#2. Add and Assign(+=)\n",
    "\n",
    "\n",
    "x+=b\n",
    "b+=x\n",
    "print(x)\n",
    "print(b)\n"
   ]
  },
  {
   "cell_type": "code",
   "execution_count": 6,
   "id": "c22fe492",
   "metadata": {},
   "outputs": [],
   "source": [
    "#3."
   ]
  },
  {
   "cell_type": "code",
   "execution_count": 15,
   "id": "102035e4",
   "metadata": {},
   "outputs": [
    {
     "name": "stdout",
     "output_type": "stream",
     "text": [
      "12\n",
      "10\n",
      "15\n",
      "15\n",
      "3\n",
      "5\n",
      "6\n"
     ]
    }
   ],
   "source": [
    "a=12\n",
    "b=15\n",
    "c=10\n",
    "print(a&b)\n",
    "print(c&b)\n",
    "print(a|b)\n",
    "print(b|c)\n",
    "print(a^b)\n",
    "print(c^b)\n",
    "print(a^c)"
   ]
  },
  {
   "cell_type": "code",
   "execution_count": 16,
   "id": "526cdd1c",
   "metadata": {},
   "outputs": [
    {
     "name": "stdout",
     "output_type": "stream",
     "text": [
      "49\n",
      "57\n",
      "49\n",
      "61\n",
      "59\n",
      "63\n",
      "12\n",
      "2\n",
      "14\n"
     ]
    }
   ],
   "source": [
    "#convert integer into binary\n",
    "# Bitwise Operator & = and, | = or, ^ = zor\n",
    "a=53\n",
    "b=57\n",
    "c=59\n",
    "print(a&b)\n",
    "print(b&c)\n",
    "print(c&a)\n",
    "print(a|b)\n",
    "print(b|c)\n",
    "print(c|a)\n",
    "print(a^b)\n",
    "print(b^c)\n",
    "print(c^a)\n"
   ]
  },
  {
   "cell_type": "code",
   "execution_count": 17,
   "id": "0337d156",
   "metadata": {},
   "outputs": [
    {
     "name": "stdout",
     "output_type": "stream",
     "text": [
      "5\n",
      "0\n"
     ]
    }
   ],
   "source": [
    "#Substraction and assign(-=)\n",
    "a=10\n",
    "b=5\n",
    "a-=b\n",
    "b-=a\n",
    "print(a)\n",
    "print(b)"
   ]
  },
  {
   "cell_type": "code",
   "execution_count": 18,
   "id": "e77e5aea",
   "metadata": {},
   "outputs": [
    {
     "name": "stdout",
     "output_type": "stream",
     "text": [
      "50\n",
      "250\n"
     ]
    }
   ],
   "source": [
    "#Multiplication and assign(*=)\n",
    "a=10\n",
    "b=5\n",
    "a*=b\n",
    "b*=a\n",
    "print(a)\n",
    "print(b)"
   ]
  },
  {
   "cell_type": "code",
   "execution_count": 19,
   "id": "0ced8fd6",
   "metadata": {},
   "outputs": [
    {
     "name": "stdout",
     "output_type": "stream",
     "text": [
      "2.0\n",
      "2.5\n"
     ]
    }
   ],
   "source": [
    "#DIVISION AND ASSIGN(/=)\n",
    "a=10\n",
    "b=5\n",
    "a/=b\n",
    "b/=a\n",
    "print(a)\n",
    "print(b)"
   ]
  },
  {
   "cell_type": "code",
   "execution_count": 20,
   "id": "687516ac",
   "metadata": {},
   "outputs": [
    {
     "name": "stdout",
     "output_type": "stream",
     "text": [
      "2\n",
      "2\n"
     ]
    }
   ],
   "source": [
    "#DIVISION FLOOR (//=)\n",
    "a=10\n",
    "b=5\n",
    "a//=b\n",
    "b//=a\n",
    "print(a)\n",
    "print(b)\n",
    "\n"
   ]
  },
  {
   "cell_type": "code",
   "execution_count": 21,
   "id": "60ec9b54",
   "metadata": {},
   "outputs": [
    {
     "name": "stdout",
     "output_type": "stream",
     "text": [
      "1000\n"
     ]
    }
   ],
   "source": [
    "#exponent AND ASSIGN(**=)\n",
    "a=10\n",
    "b=3\n",
    "a**=b\n",
    "print(a)"
   ]
  },
  {
   "cell_type": "code",
   "execution_count": 22,
   "id": "da2a7ce0",
   "metadata": {},
   "outputs": [
    {
     "name": "stdout",
     "output_type": "stream",
     "text": [
      "1\n"
     ]
    }
   ],
   "source": [
    "#Modulus and Assign(%=)\n",
    "a=10\n",
    "b=3\n",
    "a%=b\n",
    "print(a)"
   ]
  },
  {
   "cell_type": "code",
   "execution_count": 23,
   "id": "00111bbe",
   "metadata": {},
   "outputs": [],
   "source": [
    "#LOGICAL OPERATORS"
   ]
  },
  {
   "cell_type": "code",
   "execution_count": 24,
   "id": "aca73a69",
   "metadata": {},
   "outputs": [
    {
     "name": "stdout",
     "output_type": "stream",
     "text": [
      "True\n",
      "False\n"
     ]
    }
   ],
   "source": [
    "#1.and = The and logical operator gives true value only if both expression are correct.\n",
    "x=10\n",
    "y=5\n",
    "print(x>y and y<x)\n",
    "print(x>y and y>x)"
   ]
  },
  {
   "cell_type": "code",
   "execution_count": 25,
   "id": "da075438",
   "metadata": {},
   "outputs": [
    {
     "name": "stdout",
     "output_type": "stream",
     "text": [
      "True\n",
      "False\n"
     ]
    }
   ],
   "source": [
    "#2.or = The or logical operater give boolean true value if one of the expression is correct.\n",
    "x=10\n",
    "y=5\n",
    "print(x>y or y>x)\n",
    "print(x<y or y>x)"
   ]
  },
  {
   "cell_type": "code",
   "execution_count": 33,
   "id": "199527e1",
   "metadata": {},
   "outputs": [
    {
     "name": "stdout",
     "output_type": "stream",
     "text": [
      "False\n",
      "True\n"
     ]
    }
   ],
   "source": [
    "#3. not = The not logical operator gives boolean true value if the expression is fals.\n",
    "x=10\n",
    "y=5\n",
    "print(not(x>y))\n",
    "print(not(x<y))\n"
   ]
  },
  {
   "cell_type": "code",
   "execution_count": 34,
   "id": "07534987",
   "metadata": {},
   "outputs": [],
   "source": [
    "# Membership Operator\n",
    "#Two Membership operator in and not in"
   ]
  },
  {
   "cell_type": "code",
   "execution_count": 47,
   "id": "4e6f0d51",
   "metadata": {},
   "outputs": [
    {
     "name": "stdout",
     "output_type": "stream",
     "text": [
      "True\n",
      "False\n",
      "True\n",
      "False\n"
     ]
    }
   ],
   "source": [
    "# 1. in membership operator\n",
    "x = [\"Abhay\",\"Aparna\"]\n",
    "print(\"Abhay\" in x)\n",
    "print(\"ashirvad\" in x)\n",
    "# 2. not in membership operator\n",
    "print(\"ashirvad\" not in x)\n",
    "print(\"Aparna\" not in x)\n"
   ]
  },
  {
   "cell_type": "code",
   "execution_count": 48,
   "id": "a7b387e1",
   "metadata": {},
   "outputs": [],
   "source": [
    "# Identity Operator\n",
    "# Two identity operator is and is not\n",
    "#Identity operator use to check wether the value of two variable is the same or not"
   ]
  },
  {
   "cell_type": "code",
   "execution_count": 51,
   "id": "e3f9cd55",
   "metadata": {},
   "outputs": [
    {
     "name": "stdout",
     "output_type": "stream",
     "text": [
      "False\n",
      "True\n"
     ]
    },
    {
     "name": "stderr",
     "output_type": "stream",
     "text": [
      "<>:5: SyntaxWarning: \"is\" with a literal. Did you mean \"==\"?\n",
      "<>:5: SyntaxWarning: \"is\" with a literal. Did you mean \"==\"?\n",
      "C:\\Users\\ASHIRVAD\\AppData\\Local\\Temp/ipykernel_5840/1655580903.py:5: SyntaxWarning: \"is\" with a literal. Did you mean \"==\"?\n",
      "  print(x is 10)\n"
     ]
    }
   ],
   "source": [
    "# 1. is identity operator \n",
    "x=10\n",
    "y=5\n",
    "print(x is y)\n",
    "print(x is 10)"
   ]
  },
  {
   "cell_type": "code",
   "execution_count": 54,
   "id": "e9c127af",
   "metadata": {},
   "outputs": [
    {
     "name": "stdout",
     "output_type": "stream",
     "text": [
      "True\n",
      "False\n"
     ]
    },
    {
     "name": "stderr",
     "output_type": "stream",
     "text": [
      "<>:5: SyntaxWarning: \"is not\" with a literal. Did you mean \"!=\"?\n",
      "<>:5: SyntaxWarning: \"is not\" with a literal. Did you mean \"!=\"?\n",
      "C:\\Users\\ASHIRVAD\\AppData\\Local\\Temp/ipykernel_5840/2112842496.py:5: SyntaxWarning: \"is not\" with a literal. Did you mean \"!=\"?\n",
      "  print(x is not 10)\n"
     ]
    }
   ],
   "source": [
    "# 2. is not identity operator\n",
    "x=10\n",
    "y=5\n",
    "print(x is not y)\n",
    "print(x is not 10)"
   ]
  },
  {
   "cell_type": "code",
   "execution_count": null,
   "id": "2e399bb1",
   "metadata": {},
   "outputs": [],
   "source": []
  }
 ],
 "metadata": {
  "kernelspec": {
   "display_name": "Python 3 (ipykernel)",
   "language": "python",
   "name": "python3"
  },
  "language_info": {
   "codemirror_mode": {
    "name": "ipython",
    "version": 3
   },
   "file_extension": ".py",
   "mimetype": "text/x-python",
   "name": "python",
   "nbconvert_exporter": "python",
   "pygments_lexer": "ipython3",
   "version": "3.9.7"
  }
 },
 "nbformat": 4,
 "nbformat_minor": 5
}

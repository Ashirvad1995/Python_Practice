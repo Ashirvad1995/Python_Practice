{
 "cells": [
  {
   "cell_type": "code",
   "execution_count": null,
   "id": "1a7333bf",
   "metadata": {},
   "outputs": [],
   "source": [
    "from tkinter import *\n",
    "root = Tk()\n",
    "root.geometry(\"500x400\")\n",
    "root.minsize(200,100)\n",
    "root.maxsize(700,500)\n",
    "f1 = Frame(root,bg=\"yellow\", borderwidth=50, relief=SUNKEN)\n",
    "f1.pack(side=LEFT, anchor = \"nw\")\n",
    "ashirvad = Label(f1,text=\"ashirvad is good boy\",font=\"Helvetica 10 bold\", fg=\"blue\",pady=20)\n",
    "ashirvad.pack()\n",
    "root.mainloop()"
   ]
  },
  {
   "cell_type": "code",
   "execution_count": null,
   "id": "dacbed26",
   "metadata": {},
   "outputs": [],
   "source": []
  }
 ],
 "metadata": {
  "kernelspec": {
   "display_name": "Python 3 (ipykernel)",
   "language": "python",
   "name": "python3"
  },
  "language_info": {
   "codemirror_mode": {
    "name": "ipython",
    "version": 3
   },
   "file_extension": ".py",
   "mimetype": "text/x-python",
   "name": "python",
   "nbconvert_exporter": "python",
   "pygments_lexer": "ipython3",
   "version": "3.9.7"
  }
 },
 "nbformat": 4,
 "nbformat_minor": 5
}

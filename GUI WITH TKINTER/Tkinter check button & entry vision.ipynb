{
 "cells": [
  {
   "cell_type": "code",
   "execution_count": 11,
   "id": "73900d7c",
   "metadata": {},
   "outputs": [
    {
     "name": "stdout",
     "output_type": "stream",
     "text": [
      "Submitting form\n",
      "('krupali', '8828702414', 'femaile', '8451813458', 'online', 1)\n"
     ]
    }
   ],
   "source": [
    "from tkinter import *\n",
    "root = Tk()\n",
    "\n",
    "def getvals():\n",
    "    print(\"Submitting form\")\n",
    "    \n",
    "    print(f\"{namevalue.get(),phonevalue.get(),gendervalue.get(),emergencyvalue.get(),paymentmodevalue.get(),foodservicevalue.get()}\")\n",
    "    \n",
    "    with open(\"records,text\", \"a\") as f :\n",
    "        f.write(f\"{namevalue.get(),phonevalue.get(),gendervalue.get(),emergencyvalue.get(),paymentmodevalue.get(),foodservicevalue.get()}\\n\")\n",
    "root.geometry(\"644x344\")\n",
    "#Heading\n",
    "Label(root, text = \"Welcome to Ashirvad Travels\",\n",
    "font=\"comicsansms 13 bold\", pady=15).grid(row=0, column=3)\n",
    "\n",
    "#Text for our form\n",
    "name = Label(root, text=\"Name\")\n",
    "phone = Label(root, text=\"Phone\")\n",
    "gender = Label(root, text=\"Gender\")\n",
    "emergency = Label(root, text=\"Emergency Contact\")\n",
    "paymentmode = Label(root, text=\"Payment Mode\")\n",
    "\n",
    "#Pack text for our form\n",
    "name.grid(row=1, column=2)\n",
    "phone.grid(row=2, column=2)\n",
    "gender.grid(row=3, column=2)\n",
    "emergency.grid(row=4, column=2)\n",
    "paymentmode.grid(row=5, column=2)\n",
    "\n",
    "#Tkinter variable storing entries\n",
    "namevalue = StringVar()\n",
    "phonevalue = StringVar()\n",
    "gendervalue = StringVar()\n",
    "emergencyvalue = StringVar()\n",
    "paymentmodevalue = StringVar()\n",
    "foodservicevalue = IntVar()\n",
    "\n",
    "#Entries for our form\n",
    "nameentry = Entry(root, textvariable=namevalue)\n",
    "phoneentry = Entry(root, textvariable=phonevalue)\n",
    "genderentry = Entry(root, textvariable=gendervalue)\n",
    "emergencyentry = Entry(root, textvariable=emergencyvalue)\n",
    "paymentmodeentry = Entry(root, textvariable=paymentmodevalue)\n",
    "\n",
    "# Packing the Entries\n",
    "nameentry.grid(row=1, column=3)\n",
    "phoneentry.grid(row=2, column=3)\n",
    "genderentry.grid(row=3, column=3)\n",
    "emergencyentry.grid(row=4, column=3)\n",
    "paymentmodeentry.grid(row=5, column=3)\n",
    "\n",
    "#Checkbox & Packing it\n",
    "foodservice = Checkbutton(text=\"Want to prebook your meals?\", variable = foodservicevalue)\n",
    "foodservice.grid(row=6, column=3)\n",
    "\n",
    "#Button & packing it and assigning it a command\n",
    "Button(text=\"Submit to Ashirvad Travels\", command=getvals).grid(row=7, column=3)\n",
    "root.mainloop()\n",
    "    "
   ]
  },
  {
   "cell_type": "code",
   "execution_count": null,
   "id": "1988ab2e",
   "metadata": {},
   "outputs": [],
   "source": []
  }
 ],
 "metadata": {
  "kernelspec": {
   "display_name": "Python 3 (ipykernel)",
   "language": "python",
   "name": "python3"
  },
  "language_info": {
   "codemirror_mode": {
    "name": "ipython",
    "version": 3
   },
   "file_extension": ".py",
   "mimetype": "text/x-python",
   "name": "python",
   "nbconvert_exporter": "python",
   "pygments_lexer": "ipython3",
   "version": "3.9.7"
  }
 },
 "nbformat": 4,
 "nbformat_minor": 5
}

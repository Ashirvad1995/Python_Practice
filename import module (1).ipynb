{
 "cells": [
  {
   "cell_type": "code",
   "execution_count": 7,
   "id": "16fd6c7a",
   "metadata": {},
   "outputs": [
    {
     "name": "stdout",
     "output_type": "stream",
     "text": [
      "30\n"
     ]
    }
   ],
   "source": [
    "import pradsb\n",
    "\n",
    "print(pradsb.add(25,5))"
   ]
  },
  {
   "cell_type": "code",
   "execution_count": 8,
   "id": "7de4f386",
   "metadata": {},
   "outputs": [
    {
     "name": "stdout",
     "output_type": "stream",
     "text": [
      "6\n"
     ]
    }
   ],
   "source": [
    "print(pradsb.sub(8,2))"
   ]
  },
  {
   "cell_type": "code",
   "execution_count": 9,
   "id": "422d178a",
   "metadata": {},
   "outputs": [
    {
     "name": "stdout",
     "output_type": "stream",
     "text": [
      "Prime number\n"
     ]
    }
   ],
   "source": [
    "print(pradsb.prime(11))"
   ]
  },
  {
   "cell_type": "code",
   "execution_count": 10,
   "id": "7a568ded",
   "metadata": {},
   "outputs": [
    {
     "ename": "AttributeError",
     "evalue": "module 'pradsb' has no attribute 'mult'",
     "output_type": "error",
     "traceback": [
      "\u001b[1;31m---------------------------------------------------------------------------\u001b[0m",
      "\u001b[1;31mAttributeError\u001b[0m                            Traceback (most recent call last)",
      "\u001b[1;32m~\\AppData\\Local\\Temp/ipykernel_11536/3825604830.py\u001b[0m in \u001b[0;36m<module>\u001b[1;34m\u001b[0m\n\u001b[1;32m----> 1\u001b[1;33m \u001b[0mprint\u001b[0m\u001b[1;33m(\u001b[0m\u001b[0mpradsb\u001b[0m\u001b[1;33m.\u001b[0m\u001b[0mmult\u001b[0m\u001b[1;33m(\u001b[0m\u001b[1;36m4\u001b[0m\u001b[1;33m)\u001b[0m\u001b[1;33m)\u001b[0m\u001b[1;33m\u001b[0m\u001b[1;33m\u001b[0m\u001b[0m\n\u001b[0m",
      "\u001b[1;31mAttributeError\u001b[0m: module 'pradsb' has no attribute 'mult'"
     ]
    }
   ],
   "source": [
    "print(pradsb.mult(4))"
   ]
  },
  {
   "cell_type": "code",
   "execution_count": 13,
   "id": "1f1a9586",
   "metadata": {},
   "outputs": [
    {
     "name": "stdout",
     "output_type": "stream",
     "text": [
      "31\n",
      "44\n"
     ]
    }
   ],
   "source": [
    "import pradsb, random\n",
    "\n",
    "print(pradsb.add(25,6))\n",
    "print(random.randint(10,50))"
   ]
  },
  {
   "cell_type": "code",
   "execution_count": 14,
   "id": "bbba70f5",
   "metadata": {},
   "outputs": [
    {
     "name": "stdout",
     "output_type": "stream",
     "text": [
      "1\n"
     ]
    }
   ],
   "source": [
    "import pradsb as kd\n",
    "print(kd.sub(9,8))"
   ]
  },
  {
   "cell_type": "code",
   "execution_count": 16,
   "id": "de240c68",
   "metadata": {},
   "outputs": [
    {
     "name": "stdout",
     "output_type": "stream",
     "text": [
      "Not a Prime number\n"
     ]
    }
   ],
   "source": [
    "from pradsb import prime\n",
    "print(prime(18))\n"
   ]
  },
  {
   "cell_type": "code",
   "execution_count": 17,
   "id": "2a8ebf29",
   "metadata": {},
   "outputs": [
    {
     "name": "stdout",
     "output_type": "stream",
     "text": [
      "75\n",
      "25\n",
      "Prime number\n"
     ]
    }
   ],
   "source": [
    "from pradsb import*\n",
    "print(add(25,50))\n",
    "print(sub(50,25))\n",
    "print(prime(19))"
   ]
  },
  {
   "cell_type": "code",
   "execution_count": 18,
   "id": "1a75c41d",
   "metadata": {},
   "outputs": [
    {
     "name": "stdout",
     "output_type": "stream",
     "text": [
      "['In', 'Out', '_', '__', '___', '__builtin__', '__builtins__', '__doc__', '__loader__', '__name__', '__package__', '__spec__', '_dh', '_i', '_i1', '_i10', '_i11', '_i12', '_i13', '_i14', '_i15', '_i16', '_i17', '_i18', '_i2', '_i3', '_i4', '_i5', '_i6', '_i7', '_i8', '_i9', '_ih', '_ii', '_iii', '_oh', 'a', 'add', 'b', 'exit', 'get_ipython', 'kd', 'num', 'pradsb', 'prime', 'quit', 'random', 'sub']\n"
     ]
    }
   ],
   "source": [
    "import random\n",
    "print(dir())"
   ]
  },
  {
   "cell_type": "code",
   "execution_count": 19,
   "id": "7c3b4fcc",
   "metadata": {},
   "outputs": [
    {
     "name": "stdout",
     "output_type": "stream",
     "text": [
      "['In', 'Out', '_', '__', '___', '__builtin__', '__builtins__', '__doc__', '__loader__', '__name__', '__package__', '__spec__', '_dh', '_i', '_i1', '_i10', '_i11', '_i12', '_i13', '_i14', '_i15', '_i16', '_i17', '_i18', '_i19', '_i2', '_i3', '_i4', '_i5', '_i6', '_i7', '_i8', '_i9', '_ih', '_ii', '_iii', '_oh', 'a', 'add', 'b', 'exit', 'get_ipython', 'kd', 'math', 'num', 'pradsb', 'prime', 'quit', 'random', 'sub']\n"
     ]
    }
   ],
   "source": [
    "import math\n",
    "print(dir())"
   ]
  },
  {
   "cell_type": "code",
   "execution_count": 20,
   "id": "3973ff73",
   "metadata": {},
   "outputs": [
    {
     "name": "stdout",
     "output_type": "stream",
     "text": [
      "['In', 'Out', '_', '__', '___', '__builtin__', '__builtins__', '__doc__', '__loader__', '__name__', '__package__', '__spec__', '_dh', '_i', '_i1', '_i10', '_i11', '_i12', '_i13', '_i14', '_i15', '_i16', '_i17', '_i18', '_i19', '_i2', '_i20', '_i3', '_i4', '_i5', '_i6', '_i7', '_i8', '_i9', '_ih', '_ii', '_iii', '_oh', 'a', 'add', 'b', 'exit', 'get_ipython', 'kd', 'math', 'num', 'pradsb', 'prime', 'quit', 'random', 'sub']\n"
     ]
    }
   ],
   "source": [
    "import pradsb\n",
    "print(dir())"
   ]
  },
  {
   "cell_type": "code",
   "execution_count": null,
   "id": "b6744ba8",
   "metadata": {},
   "outputs": [],
   "source": []
  }
 ],
 "metadata": {
  "kernelspec": {
   "display_name": "Python 3 (ipykernel)",
   "language": "python",
   "name": "python3"
  },
  "language_info": {
   "codemirror_mode": {
    "name": "ipython",
    "version": 3
   },
   "file_extension": ".py",
   "mimetype": "text/x-python",
   "name": "python",
   "nbconvert_exporter": "python",
   "pygments_lexer": "ipython3",
   "version": "3.9.7"
  }
 },
 "nbformat": 4,
 "nbformat_minor": 5
}

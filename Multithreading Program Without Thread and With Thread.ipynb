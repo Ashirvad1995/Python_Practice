{
 "cells": [
  {
   "cell_type": "code",
   "execution_count": 1,
   "id": "02fbcac3",
   "metadata": {},
   "outputs": [],
   "source": [
    "# Program Without Thread and With Thread"
   ]
  },
  {
   "cell_type": "code",
   "execution_count": 2,
   "id": "063c6ca7",
   "metadata": {},
   "outputs": [
    {
     "name": "stdout",
     "output_type": "stream",
     "text": [
      "calculate square of numbers\n",
      "square :  4\n",
      "square :  9\n",
      "square :  64\n",
      "square :  81\n",
      "calculate cube of numbers\n",
      "cube :  8\n",
      "cube :  27\n",
      "cube :  512\n",
      "cube :  729\n",
      "Hah..I am done with all my work now!\n"
     ]
    }
   ],
   "source": [
    "# Program Without Thread\n",
    "\n",
    "def calc_square(numbers):\n",
    "    print(\"calculate square of numbers\")\n",
    "    for n in numbers:\n",
    "        print(\"square : \", n*n )\n",
    "        \n",
    "def calc_cube(numbers):\n",
    "    print(\"calculate cube of numbers\")\n",
    "    for n in numbers:\n",
    "        print(\"cube : \", n**3)\n",
    "        \n",
    "arr = [2,3,8,9]\n",
    "\n",
    "calc_square(arr)\n",
    "calc_cube(arr)\n",
    "\n",
    "print(\"Hah..I am done with all my work now!\")"
   ]
  },
  {
   "cell_type": "code",
   "execution_count": 10,
   "id": "c092807a",
   "metadata": {},
   "outputs": [
    {
     "name": "stdout",
     "output_type": "stream",
     "text": [
      "calculate square of the numbers\n",
      "calculate cube of the numbers\n",
      "square :  4\n",
      "cube :  8\n",
      "square :  9\n",
      "cube :  27\n",
      "square :  64\n",
      "cube :  512\n",
      "square :  81\n",
      "cube :  729\n",
      "done in :  8.052464723587036\n",
      "Hah..I am done with all my work now!\n"
     ]
    }
   ],
   "source": [
    "# Program with threading.\n",
    "\n",
    "import time\n",
    "import threading\n",
    "\n",
    "def calc_square(numbers):\n",
    "    print(\"calculate square of the numbers\")\n",
    "    for n in numbers:\n",
    "        time.sleep(2)\n",
    "        print(\"square : \", n*n)\n",
    "        \n",
    "def calc_cube(numbers):\n",
    "    print(\"calculate cube of the numbers\")\n",
    "    for n in numbers:\n",
    "        time.sleep(2)\n",
    "        print(\"cube : \", n**3)\n",
    "        \n",
    "arr = [2,3,8,9]\n",
    "t = time.time()\n",
    "\n",
    "t1 = threading.Thread(target = calc_square, args = (arr,))\n",
    "t2 = threading.Thread(target = calc_cube, args = (arr,))\n",
    "\n",
    "t1.start()\n",
    "t2.start()\n",
    "\n",
    "t1.join()\n",
    "t2.join()\n",
    "\n",
    "print(\"done in : \", time.time()-t)\n",
    "print(\"Hah..I am done with all my work now!\")\n"
   ]
  },
  {
   "cell_type": "code",
   "execution_count": null,
   "id": "6a5f3585",
   "metadata": {},
   "outputs": [],
   "source": []
  }
 ],
 "metadata": {
  "kernelspec": {
   "display_name": "Python 3 (ipykernel)",
   "language": "python",
   "name": "python3"
  },
  "language_info": {
   "codemirror_mode": {
    "name": "ipython",
    "version": 3
   },
   "file_extension": ".py",
   "mimetype": "text/x-python",
   "name": "python",
   "nbconvert_exporter": "python",
   "pygments_lexer": "ipython3",
   "version": "3.9.7"
  }
 },
 "nbformat": 4,
 "nbformat_minor": 5
}

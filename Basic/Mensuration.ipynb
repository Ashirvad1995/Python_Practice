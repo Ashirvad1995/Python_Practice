{
 "cells": [
  {
   "cell_type": "markdown",
   "id": "e3136224",
   "metadata": {},
   "source": [
    "# Q1.Find the Area of Rectangle using inputuser?"
   ]
  },
  {
   "cell_type": "code",
   "execution_count": 2,
   "id": "aeb1e043",
   "metadata": {},
   "outputs": [
    {
     "name": "stdout",
     "output_type": "stream",
     "text": [
      "Enter length of rectangle 5\n",
      "Enter breath of rectangle 4\n",
      "Area of rectangle is : 20\n"
     ]
    }
   ],
   "source": [
    "#Ans.Q1\n",
    "x = int(input(\"Enter length of rectangle \"))\n",
    "y = int(input(\"Enter breath of rectangle \"))\n",
    "Area = x*y\n",
    "print(\"Area of rectangle is :\",Area)"
   ]
  },
  {
   "cell_type": "markdown",
   "id": "7750208b",
   "metadata": {},
   "source": [
    "# Q2. Find the Area of Square using input user?"
   ]
  },
  {
   "cell_type": "code",
   "execution_count": 4,
   "id": "8c22d7ab",
   "metadata": {},
   "outputs": [
    {
     "name": "stdout",
     "output_type": "stream",
     "text": [
      "Enter length of rectangle 5\n",
      "Area of rectange is :  25\n"
     ]
    }
   ],
   "source": [
    "#Ans.Q2\n",
    "x = int(input(\"Enter length of rectangle \"))\n",
    "Area = x**2\n",
    "print(\"Area of rectange is : \",Area)"
   ]
  },
  {
   "cell_type": "markdown",
   "id": "6e9b3c02",
   "metadata": {},
   "source": [
    "# Q3. Find the area of Circle using input user?"
   ]
  },
  {
   "cell_type": "code",
   "execution_count": 15,
   "id": "29251515",
   "metadata": {},
   "outputs": [
    {
     "name": "stdout",
     "output_type": "stream",
     "text": [
      "Enter Radius 5\n",
      "Area of Circle is   15.700000000000001\n"
     ]
    }
   ],
   "source": [
    "#Ans.Q3\n",
    "x = int(input(\"Enter Radius \"))\n",
    "Area = 3.14*x\n",
    "print(\"Area of Circle is  \",Area)"
   ]
  },
  {
   "cell_type": "markdown",
   "id": "7e064b59",
   "metadata": {},
   "source": [
    "# Q4.Find the circumferance of circle using input user?"
   ]
  },
  {
   "cell_type": "code",
   "execution_count": 17,
   "id": "22d69075",
   "metadata": {},
   "outputs": [
    {
     "name": "stdout",
     "output_type": "stream",
     "text": [
      "Enter Radius 5\n",
      "Circumfrerance of Circle is   31.400000000000002\n"
     ]
    }
   ],
   "source": [
    "#Ans.Q4\n",
    "x = int(input(\"Enter Radius \"))\n",
    "Circumferance = 2*3.14*x\n",
    "print(\"Circumfrerance of Circle is  \",Circumferance)"
   ]
  },
  {
   "cell_type": "markdown",
   "id": "1ac4bab9",
   "metadata": {},
   "source": [
    "# Q5.Find the parameter of rectangle?"
   ]
  },
  {
   "cell_type": "code",
   "execution_count": 19,
   "id": "d920489d",
   "metadata": {},
   "outputs": [
    {
     "name": "stdout",
     "output_type": "stream",
     "text": [
      "Enter length 12\n",
      "Enter Breath 4\n",
      "Parameter of Rectangle  32\n"
     ]
    }
   ],
   "source": [
    "#Ans.Q5\n",
    "x = int(input(\"Enter length \"))\n",
    "y = int(input(\"Enter Breath \"))\n",
    "Parameter = 2*x+2*y\n",
    "print(\"Parameter of Rectangle \",Parameter)"
   ]
  },
  {
   "cell_type": "markdown",
   "id": "a5dc8cd0",
   "metadata": {},
   "source": [
    "# Q6.Find the parameter of Square?"
   ]
  },
  {
   "cell_type": "code",
   "execution_count": 21,
   "id": "c61f518a",
   "metadata": {},
   "outputs": [
    {
     "name": "stdout",
     "output_type": "stream",
     "text": [
      "Enter length 4\n",
      "Parameter of Square is  16\n"
     ]
    }
   ],
   "source": [
    "#Ans.Q6\n",
    "x = int(input(\"Enter length \"))\n",
    "Parameter = 4*x\n",
    "print(\"Parameter of Square is \", Parameter)"
   ]
  },
  {
   "cell_type": "markdown",
   "id": "03fb8275",
   "metadata": {},
   "source": [
    "# Q7.Find the Volume of Cube?"
   ]
  },
  {
   "cell_type": "code",
   "execution_count": 23,
   "id": "19cc507d",
   "metadata": {},
   "outputs": [
    {
     "name": "stdout",
     "output_type": "stream",
     "text": [
      "Enter length 3\n",
      "Volume of Cube is  27\n"
     ]
    }
   ],
   "source": [
    "#Ans.Q7\n",
    "x = int(input(\"Enter length \"))\n",
    "Volume = x**3\n",
    "print(\"Volume of Cube is \",Volume)"
   ]
  },
  {
   "cell_type": "markdown",
   "id": "b71ff32b",
   "metadata": {},
   "source": [
    "# Q8.Find the total surface area of the Cube?"
   ]
  },
  {
   "cell_type": "code",
   "execution_count": 25,
   "id": "78320a89",
   "metadata": {},
   "outputs": [
    {
     "name": "stdout",
     "output_type": "stream",
     "text": [
      "Enter length 10\n",
      "Total surface area of the Cube  600\n"
     ]
    }
   ],
   "source": [
    "#Ans.Q8\n",
    "x = int(input(\"Enter length \"))\n",
    "Surface_Area = 6*x**2\n",
    "print(\"Total surface area of the Cube \",Surface_Area)"
   ]
  },
  {
   "cell_type": "markdown",
   "id": "c3fc37ae",
   "metadata": {},
   "source": [
    "# Q9.Find the Volume of Cuboid?"
   ]
  },
  {
   "cell_type": "code",
   "execution_count": 26,
   "id": "58126a9a",
   "metadata": {},
   "outputs": [
    {
     "name": "stdout",
     "output_type": "stream",
     "text": [
      "Enter lenght 5\n",
      "Enter breath 4\n",
      "Enter height 3\n",
      "Volume of Cuboid  60\n"
     ]
    }
   ],
   "source": [
    "#Ans.Q9\n",
    "x = int(input(\"Enter lenght \"))\n",
    "y = int(input(\"Enter breath \"))\n",
    "z = int(input(\"Enter height \"))\n",
    "Volume = x*y*z\n",
    "print(\"Volume of Cuboid \",Volume)"
   ]
  },
  {
   "cell_type": "markdown",
   "id": "a4d9fa34",
   "metadata": {},
   "source": [
    "# Q10.Find the total surface area of the Cuboid?"
   ]
  },
  {
   "cell_type": "code",
   "execution_count": 27,
   "id": "aca82cf8",
   "metadata": {},
   "outputs": [
    {
     "name": "stdout",
     "output_type": "stream",
     "text": [
      "Enter lenght 2\n",
      "Enter breath 3\n",
      "Enter height 4\n",
      "Total surface area of the cuboid is  26\n"
     ]
    }
   ],
   "source": [
    "#Ans.Q10\n",
    "x = int(input(\"Enter lenght \"))\n",
    "y = int(input(\"Enter breath \"))\n",
    "z = int(input(\"Enter height \"))\n",
    "TS_Area = x*y+y*z+z*x\n",
    "print(\"Total surface area of the cuboid is \",TS_Area)"
   ]
  }
 ],
 "metadata": {
  "kernelspec": {
   "display_name": "Python 3 (ipykernel)",
   "language": "python",
   "name": "python3"
  },
  "language_info": {
   "codemirror_mode": {
    "name": "ipython",
    "version": 3
   },
   "file_extension": ".py",
   "mimetype": "text/x-python",
   "name": "python",
   "nbconvert_exporter": "python",
   "pygments_lexer": "ipython3",
   "version": "3.9.7"
  }
 },
 "nbformat": 4,
 "nbformat_minor": 5
}

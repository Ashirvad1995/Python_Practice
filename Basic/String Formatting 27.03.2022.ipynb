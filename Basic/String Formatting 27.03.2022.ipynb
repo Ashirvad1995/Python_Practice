{
 "cells": [
  {
   "cell_type": "code",
   "execution_count": 1,
   "id": "3b2ec9e3",
   "metadata": {},
   "outputs": [],
   "source": [
    "# 1. join()\n",
    "# str.join(iterable)\n",
    "# The join() method returns a string, which is the concatenation of the string\n",
    "#(on which it is called) with the string elements of the specified iterable as an argument.\n",
    "# iterable: (Required) An iterable object such as list, tuple, string, set, dict."
   ]
  },
  {
   "cell_type": "code",
   "execution_count": 15,
   "id": "8419ed6b",
   "metadata": {},
   "outputs": [
    {
     "name": "stdout",
     "output_type": "stream",
     "text": [
      "ashirvad,narayan,shubhangi,siddhesh,mamata,Akshata\n",
      "A,s,h,i,r,v,a,d\n",
      "1,2,3,4\n",
      "ashirvad,desai\n"
     ]
    }
   ],
   "source": [
    "sep =','\n",
    "names = ['ashirvad', 'narayan', 'shubhangi', 'siddhesh', 'mamata', 'Akshata']# list\n",
    "print(sep.join(names))\n",
    "\n",
    "y = \"Ashirvad\" # string\n",
    "print(sep.join(y))\n",
    "\n",
    "num = ('1','2','3','4')# touple\n",
    "print(sep.join(num))\n",
    "\n",
    "z = {'ashirvad','desai'} # set\n",
    "print(sep.join(z))"
   ]
  },
  {
   "cell_type": "code",
   "execution_count": null,
   "id": "752cc029",
   "metadata": {},
   "outputs": [],
   "source": [
    "2# ljust()\n",
    "# Syntax = str.ljust(width,fillchare)\n",
    "# The ljust() method returns the left justified string with the specified width. \n",
    "#If the specified width is more than the string length, then the string's remaining part is filled with the specified fill char.\n",
    "#The default fill char is a space. \n",
    "#The original string is returned if the width is less than the length of the given string."
   ]
  },
  {
   "cell_type": "code",
   "execution_count": 24,
   "id": "b8685f3d",
   "metadata": {},
   "outputs": [
    {
     "name": "stdout",
     "output_type": "stream",
     "text": [
      "hi  \n"
     ]
    },
    {
     "data": {
      "text/plain": [
       "'hi---'"
      ]
     },
     "execution_count": 24,
     "metadata": {},
     "output_type": "execute_result"
    }
   ],
   "source": [
    "x = 'hi'\n",
    "print(x.ljust(4))\n",
    "\n",
    "x.ljust(5,'-')\n",
    "\n"
   ]
  },
  {
   "cell_type": "code",
   "execution_count": 23,
   "id": "cdf8827b",
   "metadata": {},
   "outputs": [
    {
     "data": {
      "text/plain": [
       "'hi'"
      ]
     },
     "execution_count": 23,
     "metadata": {},
     "output_type": "execute_result"
    }
   ],
   "source": [
    "x.ljust(2,'*')"
   ]
  },
  {
   "cell_type": "code",
   "execution_count": 25,
   "id": "67157fd8",
   "metadata": {},
   "outputs": [
    {
     "name": "stdout",
     "output_type": "stream",
     "text": [
      "Ashu Desai\n"
     ]
    }
   ],
   "source": [
    "#3. replace()\n",
    "#Syntax = str.replace(old, new, count)\n",
    "# The replace() method returns a copy of the string where all occurrences of a substring are replaced with another substring.\n",
    "x = 'Ashirvad Desai'\n",
    "print(x.replace('Ashirvad','Ashu'))\n"
   ]
  },
  {
   "cell_type": "code",
   "execution_count": 26,
   "id": "ff493ee8",
   "metadata": {},
   "outputs": [
    {
     "name": "stdout",
     "output_type": "stream",
     "text": [
      "Good niGht\n"
     ]
    }
   ],
   "source": [
    "x = 'good night'\n",
    "print(x.replace('g','G'))"
   ]
  },
  {
   "cell_type": "code",
   "execution_count": 28,
   "id": "b8f93983",
   "metadata": {},
   "outputs": [
    {
     "name": "stdout",
     "output_type": "stream",
     "text": [
      "cherry.banana,cherry,banana,apple\n"
     ]
    }
   ],
   "source": [
    "x = 'apple.banana,apple,banana,apple'\n",
    "print(x.replace('apple','cherry',2))"
   ]
  },
  {
   "cell_type": "code",
   "execution_count": 37,
   "id": "74dd413f",
   "metadata": {},
   "outputs": [
    {
     "name": "stdout",
     "output_type": "stream",
     "text": [
      "Index of H : 0\n",
      "Index of a : 12\n",
      "Index of n : -1\n"
     ]
    }
   ],
   "source": [
    "# 4. rfind()\n",
    "# The rfind() method returns the highest index of the specified substring (the last occurrence of the substring) in the given string.\n",
    "# If the substring is not found, then it returns -1.\n",
    "# syntax = str.rfind(substr,start,end)\n",
    "\n",
    "z = 'Ashirvad desai'\n",
    "print('Index of H :', z.rfind('A'))\n",
    "print('Index of a :',z.rfind('a'))\n",
    "print('Index of n :', z.rfind('z'))"
   ]
  },
  {
   "cell_type": "code",
   "execution_count": 38,
   "id": "ba3497c8",
   "metadata": {},
   "outputs": [
    {
     "name": "stdout",
     "output_type": "stream",
     "text": [
      "Ashirvad Desai\n"
     ]
    }
   ],
   "source": [
    "#5. title()\n",
    "# The title() method returns a string where each word starts with an uppercase character,\n",
    "# and the remaining characters are lowercase.\n",
    "# str.title()\n",
    "\n",
    "x = 'ashirvad desai'\n",
    "print(str.title(x))\n"
   ]
  },
  {
   "cell_type": "code",
   "execution_count": null,
   "id": "d865c3ae",
   "metadata": {},
   "outputs": [],
   "source": []
  }
 ],
 "metadata": {
  "kernelspec": {
   "display_name": "Python 3 (ipykernel)",
   "language": "python",
   "name": "python3"
  },
  "language_info": {
   "codemirror_mode": {
    "name": "ipython",
    "version": 3
   },
   "file_extension": ".py",
   "mimetype": "text/x-python",
   "name": "python",
   "nbconvert_exporter": "python",
   "pygments_lexer": "ipython3",
   "version": "3.9.7"
  }
 },
 "nbformat": 4,
 "nbformat_minor": 5
}

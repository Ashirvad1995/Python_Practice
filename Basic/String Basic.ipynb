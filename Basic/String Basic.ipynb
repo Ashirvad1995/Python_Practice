{
 "cells": [
  {
   "cell_type": "code",
   "execution_count": 1,
   "id": "681d8541",
   "metadata": {},
   "outputs": [],
   "source": [
    "# String is a sequence of character\n",
    "# Strings in python are surrounded by either single quotation marks, or double quotation marks.\n",
    "# In Python, string is an immutable sequence data type."
   ]
  },
  {
   "cell_type": "code",
   "execution_count": 2,
   "id": "393382c7",
   "metadata": {},
   "outputs": [
    {
     "name": "stdout",
     "output_type": "stream",
     "text": [
      "This is a string in Python\n"
     ]
    }
   ],
   "source": [
    "str1 = 'This is a string in Python'\n",
    "print(str1)"
   ]
  },
  {
   "cell_type": "code",
   "execution_count": 3,
   "id": "e3aeb2f8",
   "metadata": {},
   "outputs": [
    {
     "data": {
      "text/plain": [
       "26"
      ]
     },
     "execution_count": 3,
     "metadata": {},
     "output_type": "execute_result"
    }
   ],
   "source": [
    "len(str1)"
   ]
  },
  {
   "cell_type": "code",
   "execution_count": 4,
   "id": "12a837ed",
   "metadata": {},
   "outputs": [
    {
     "name": "stdout",
     "output_type": "stream",
     "text": [
      "This is a string in Python\n"
     ]
    }
   ],
   "source": [
    "str2 = \"This is a string in Python\"\n",
    "print(str2)"
   ]
  },
  {
   "cell_type": "code",
   "execution_count": 5,
   "id": "b2f677bc",
   "metadata": {},
   "outputs": [
    {
     "name": "stdout",
     "output_type": "stream",
     "text": [
      "This is\n",
      "the first\n",
      "Multi-line string.\n",
      "\n"
     ]
    }
   ],
   "source": [
    "#Multi-line strings must be ended in triple quotes, as shown below.\n",
    "\n",
    "str1='''This is\n",
    "the first\n",
    "Multi-line string.\n",
    "'''\n",
    "print(str1)"
   ]
  },
  {
   "cell_type": "code",
   "execution_count": 7,
   "id": "1b1690e2",
   "metadata": {},
   "outputs": [
    {
     "name": "stdout",
     "output_type": "stream",
     "text": [
      "This is\n",
      "the second\n",
      "Multi-line\n",
      "string.\n"
     ]
    }
   ],
   "source": [
    "str5 = \"\"\"This is\n",
    "the second\n",
    "Multi-line\n",
    "string.\"\"\"\n",
    "print(str5)"
   ]
  },
  {
   "cell_type": "code",
   "execution_count": 2,
   "id": "9fa6d7f4",
   "metadata": {},
   "outputs": [
    {
     "name": "stdout",
     "output_type": "stream",
     "text": [
      "Welcome to \"Python Tutorial\" at NetTech\n"
     ]
    }
   ],
   "source": [
    "str1 = 'Welcome to \"Python Tutorial\" at NetTech'\n",
    "print(str1)"
   ]
  },
  {
   "cell_type": "code",
   "execution_count": 3,
   "id": "24dbb300",
   "metadata": {},
   "outputs": [
    {
     "name": "stdout",
     "output_type": "stream",
     "text": [
      "Welcome to 'Python Tutorial' on at NetTech\n"
     ]
    }
   ],
   "source": [
    "str2 = \"Welcome to 'Python Tutorial' on at NetTech\"\n",
    "print(str2)"
   ]
  },
  {
   "cell_type": "code",
   "execution_count": 4,
   "id": "36e19d85",
   "metadata": {},
   "outputs": [
    {
     "data": {
      "text/plain": [
       "5"
      ]
     },
     "execution_count": 4,
     "metadata": {},
     "output_type": "execute_result"
    }
   ],
   "source": [
    "greet = \"hello\"\n",
    "len(greet)"
   ]
  },
  {
   "cell_type": "code",
   "execution_count": 5,
   "id": "9a68b991",
   "metadata": {},
   "outputs": [
    {
     "data": {
      "text/plain": [
       "'h'"
      ]
     },
     "execution_count": 5,
     "metadata": {},
     "output_type": "execute_result"
    }
   ],
   "source": [
    "# positive indexing\n",
    "greet = 'hello'\n",
    "greet[0]"
   ]
  },
  {
   "cell_type": "code",
   "execution_count": 6,
   "id": "09334e82",
   "metadata": {},
   "outputs": [
    {
     "ename": "IndexError",
     "evalue": "string index out of range",
     "output_type": "error",
     "traceback": [
      "\u001b[1;31m---------------------------------------------------------------------------\u001b[0m",
      "\u001b[1;31mIndexError\u001b[0m                                Traceback (most recent call last)",
      "\u001b[1;32m~\\AppData\\Local\\Temp/ipykernel_15684/1031943716.py\u001b[0m in \u001b[0;36m<module>\u001b[1;34m\u001b[0m\n\u001b[1;32m----> 1\u001b[1;33m \u001b[0mgreet\u001b[0m\u001b[1;33m[\u001b[0m\u001b[1;36m5\u001b[0m\u001b[1;33m]\u001b[0m\u001b[1;33m\u001b[0m\u001b[1;33m\u001b[0m\u001b[0m\n\u001b[0m",
      "\u001b[1;31mIndexError\u001b[0m: string index out of range"
     ]
    }
   ],
   "source": [
    "greet[5]"
   ]
  },
  {
   "cell_type": "code",
   "execution_count": 7,
   "id": "cbc8d312",
   "metadata": {},
   "outputs": [
    {
     "data": {
      "text/plain": [
       "'h'"
      ]
     },
     "execution_count": 7,
     "metadata": {},
     "output_type": "execute_result"
    }
   ],
   "source": [
    "# negative indexing\n",
    "greet = 'hello'\n",
    "greet[-5]"
   ]
  },
  {
   "cell_type": "code",
   "execution_count": 8,
   "id": "d5b63eb4",
   "metadata": {},
   "outputs": [
    {
     "ename": "TypeError",
     "evalue": "'str' object does not support item assignment",
     "output_type": "error",
     "traceback": [
      "\u001b[1;31m---------------------------------------------------------------------------\u001b[0m",
      "\u001b[1;31mTypeError\u001b[0m                                 Traceback (most recent call last)",
      "\u001b[1;32m~\\AppData\\Local\\Temp/ipykernel_15684/3369402249.py\u001b[0m in \u001b[0;36m<module>\u001b[1;34m\u001b[0m\n\u001b[0;32m      1\u001b[0m \u001b[1;31m#unmutable object hence it is not possible to modify it.\u001b[0m\u001b[1;33m\u001b[0m\u001b[1;33m\u001b[0m\u001b[0m\n\u001b[0;32m      2\u001b[0m \u001b[0mgreet\u001b[0m \u001b[1;33m=\u001b[0m \u001b[1;34m'hello'\u001b[0m\u001b[1;33m\u001b[0m\u001b[1;33m\u001b[0m\u001b[0m\n\u001b[1;32m----> 3\u001b[1;33m \u001b[0mgreet\u001b[0m\u001b[1;33m[\u001b[0m\u001b[1;36m0\u001b[0m\u001b[1;33m]\u001b[0m \u001b[1;33m=\u001b[0m \u001b[1;34m'A'\u001b[0m\u001b[1;33m\u001b[0m\u001b[1;33m\u001b[0m\u001b[0m\n\u001b[0m",
      "\u001b[1;31mTypeError\u001b[0m: 'str' object does not support item assignment"
     ]
    }
   ],
   "source": [
    "#unmutable object hence it is not possible to modify it.\n",
    "greet = 'hello'\n",
    "greet[0] = 'A'"
   ]
  },
  {
   "cell_type": "code",
   "execution_count": 9,
   "id": "9ba4454b",
   "metadata": {},
   "outputs": [
    {
     "data": {
      "text/plain": [
       "str"
      ]
     },
     "execution_count": 9,
     "metadata": {},
     "output_type": "execute_result"
    }
   ],
   "source": [
    "greet = 'hello'\n",
    "type(greet)"
   ]
  },
  {
   "cell_type": "code",
   "execution_count": 11,
   "id": "21b8b1a2",
   "metadata": {},
   "outputs": [
    {
     "data": {
      "text/plain": [
       "'a'"
      ]
     },
     "execution_count": 11,
     "metadata": {},
     "output_type": "execute_result"
    }
   ],
   "source": [
    "str2 = \"Welcome to 'Python Tutorial' at NetTech\"\n",
    "str2[-10]"
   ]
  },
  {
   "cell_type": "code",
   "execution_count": 12,
   "id": "37d21d40",
   "metadata": {},
   "outputs": [
    {
     "data": {
      "text/plain": [
       "'ello'"
      ]
     },
     "execution_count": 12,
     "metadata": {},
     "output_type": "execute_result"
    }
   ],
   "source": [
    "# Slicing\n",
    "greet[1:5]"
   ]
  },
  {
   "cell_type": "code",
   "execution_count": 13,
   "id": "061ef37b",
   "metadata": {},
   "outputs": [
    {
     "data": {
      "text/plain": [
       "'Welcome'"
      ]
     },
     "execution_count": 13,
     "metadata": {},
     "output_type": "execute_result"
    }
   ],
   "source": [
    "str2[0:7]"
   ]
  },
  {
   "cell_type": "code",
   "execution_count": 14,
   "id": "01e1eef4",
   "metadata": {},
   "outputs": [
    {
     "data": {
      "text/plain": [
       "'ome t'"
      ]
     },
     "execution_count": 14,
     "metadata": {},
     "output_type": "execute_result"
    }
   ],
   "source": [
    "str2[4:9]"
   ]
  },
  {
   "cell_type": "code",
   "execution_count": 15,
   "id": "5a92569c",
   "metadata": {},
   "outputs": [
    {
     "data": {
      "text/plain": [
       "''"
      ]
     },
     "execution_count": 15,
     "metadata": {},
     "output_type": "execute_result"
    }
   ],
   "source": [
    "str2[-1:1]"
   ]
  },
  {
   "cell_type": "code",
   "execution_count": 16,
   "id": "f26e30d6",
   "metadata": {},
   "outputs": [
    {
     "data": {
      "text/plain": [
       "\"elcome to 'Python Tutorial' at NetTec\""
      ]
     },
     "execution_count": 16,
     "metadata": {},
     "output_type": "execute_result"
    }
   ],
   "source": [
    "str2[1:-1]"
   ]
  },
  {
   "cell_type": "code",
   "execution_count": 17,
   "id": "349c2e0b",
   "metadata": {},
   "outputs": [
    {
     "data": {
      "text/plain": [
       "'ecm '"
      ]
     },
     "execution_count": 17,
     "metadata": {},
     "output_type": "execute_result"
    }
   ],
   "source": [
    "str2 = \"Welcome to 'Python Tutorial' on at NetTech\"\n",
    "str2[1:8:2]"
   ]
  },
  {
   "cell_type": "code",
   "execution_count": 18,
   "id": "dd10b0ee",
   "metadata": {},
   "outputs": [
    {
     "data": {
      "text/plain": [
       "'h'"
      ]
     },
     "execution_count": 18,
     "metadata": {},
     "output_type": "execute_result"
    }
   ],
   "source": [
    "str2[-1:]"
   ]
  },
  {
   "cell_type": "code",
   "execution_count": 19,
   "id": "85428a30",
   "metadata": {},
   "outputs": [
    {
     "data": {
      "text/plain": [
       "\"Welcome to 'Python Tutorial' on at NetTec\""
      ]
     },
     "execution_count": 19,
     "metadata": {},
     "output_type": "execute_result"
    }
   ],
   "source": [
    "str2[:-1]"
   ]
  },
  {
   "cell_type": "code",
   "execution_count": 20,
   "id": "0bf95f9b",
   "metadata": {},
   "outputs": [
    {
     "data": {
      "text/plain": [
       "42"
      ]
     },
     "execution_count": 20,
     "metadata": {},
     "output_type": "execute_result"
    }
   ],
   "source": [
    "str2 = \"Welcome to 'Python Tutorial' on at NetTech\"\n",
    "len(str2)"
   ]
  },
  {
   "cell_type": "code",
   "execution_count": 24,
   "id": "fd62d339",
   "metadata": {},
   "outputs": [
    {
     "data": {
      "text/plain": [
       "\"hceTteN ta no 'lairotuT nohtyP' ot emocleW\""
      ]
     },
     "execution_count": 24,
     "metadata": {},
     "output_type": "execute_result"
    }
   ],
   "source": [
    "str2[-1::-1]"
   ]
  },
  {
   "cell_type": "code",
   "execution_count": 26,
   "id": "8f3b93a8",
   "metadata": {},
   "outputs": [
    {
     "data": {
      "text/plain": [
       "'etN'"
      ]
     },
     "execution_count": 26,
     "metadata": {},
     "output_type": "execute_result"
    }
   ],
   "source": [
    "str2[-3:-8:-2]"
   ]
  },
  {
   "cell_type": "code",
   "execution_count": 27,
   "id": "73cf649f",
   "metadata": {},
   "outputs": [],
   "source": [
    "###String Functions \n",
    "# lower()\n",
    "# upper()\n",
    "# title()\n",
    "# capitalize()\n"
   ]
  },
  {
   "cell_type": "code",
   "execution_count": 28,
   "id": "d57d51c7",
   "metadata": {},
   "outputs": [
    {
     "data": {
      "text/plain": [
       "'my name is sanvee'"
      ]
     },
     "execution_count": 28,
     "metadata": {},
     "output_type": "execute_result"
    }
   ],
   "source": [
    "a = \"My Name Is Sanvee\"\n",
    "a.lower()"
   ]
  },
  {
   "cell_type": "code",
   "execution_count": 29,
   "id": "03c7e7bb",
   "metadata": {},
   "outputs": [
    {
     "data": {
      "text/plain": [
       "'MY NAME IS SANVEE'"
      ]
     },
     "execution_count": 29,
     "metadata": {},
     "output_type": "execute_result"
    }
   ],
   "source": [
    "a.upper()"
   ]
  },
  {
   "cell_type": "code",
   "execution_count": 30,
   "id": "e441cf36",
   "metadata": {},
   "outputs": [
    {
     "name": "stdout",
     "output_type": "stream",
     "text": [
      "Hello student \n",
      "welcome to nettech\n"
     ]
    }
   ],
   "source": [
    "print(\"Hello student \\nwelcome to nettech\")"
   ]
  },
  {
   "cell_type": "code",
   "execution_count": 31,
   "id": "9b7e243b",
   "metadata": {},
   "outputs": [],
   "source": [
    "B = \"MY NAME IS SANVEE\""
   ]
  },
  {
   "cell_type": "code",
   "execution_count": 32,
   "id": "fe93ec64",
   "metadata": {},
   "outputs": [
    {
     "data": {
      "text/plain": [
       "'My Name Is Sanvee'"
      ]
     },
     "execution_count": 32,
     "metadata": {},
     "output_type": "execute_result"
    }
   ],
   "source": [
    "B.title()"
   ]
  },
  {
   "cell_type": "code",
   "execution_count": 35,
   "id": "e19610d4",
   "metadata": {},
   "outputs": [
    {
     "data": {
      "text/plain": [
       "'My name is sanvee'"
      ]
     },
     "execution_count": 35,
     "metadata": {},
     "output_type": "execute_result"
    }
   ],
   "source": [
    "B.capitalize()"
   ]
  },
  {
   "cell_type": "code",
   "execution_count": null,
   "id": "90165dcf",
   "metadata": {},
   "outputs": [],
   "source": []
  }
 ],
 "metadata": {
  "kernelspec": {
   "display_name": "Python 3 (ipykernel)",
   "language": "python",
   "name": "python3"
  },
  "language_info": {
   "codemirror_mode": {
    "name": "ipython",
    "version": 3
   },
   "file_extension": ".py",
   "mimetype": "text/x-python",
   "name": "python",
   "nbconvert_exporter": "python",
   "pygments_lexer": "ipython3",
   "version": "3.9.7"
  }
 },
 "nbformat": 4,
 "nbformat_minor": 5
}

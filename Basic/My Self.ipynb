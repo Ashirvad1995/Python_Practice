{
 "cells": [
  {
   "cell_type": "code",
   "execution_count": 39,
   "id": "b02c7521",
   "metadata": {},
   "outputs": [],
   "source": [
    "a = \"My name is Ashirvad Desai.\"\n",
    "b = \"I am 26 years old.\"\n",
    "c = \"I have comleted my BE in Mechanical stream from Mumbai University.\"\n",
    "d = \"There are 4 members in my family.\"\n",
    "e = \"My hobbies are to playing cricket, swiming & reading.\"\n",
    "f = \"My strengths are positive thinking, easily learn any activity,focus on smart working. \"\n",
    "g = \"Now i am studying Deta science.\"\n",
    "h = \"My goal is to built new amazing model, which will mostly use all over world.\"\n",
    "i = \"Also i have three year experince in manufscturing field. \"\n",
    "j = \"In that i have 1.6 years experinced in CG power industrisl solution componey as a quality superviser. \"\n",
    "k = \"after that, i have  1.5 years experince in Siemens organization as a Production & Planing Executive. \"\n",
    "l = \"Currently i am working in siemens as a quality engineer. \"\n",
    "m = \"My experties are Production & palning, PO creations, PR Creations, maintaing QM documents as per ISO-2015. \"\n",
    "n = \"I have handled all the measuring instruments, like vernier caliper, Micrometer guage, Radius guage, etc. \"\n",
    "o = \"I know all the process flow from Material in to final product. \""
   ]
  },
  {
   "cell_type": "code",
   "execution_count": 7,
   "id": "aaeb59bd",
   "metadata": {},
   "outputs": [
    {
     "name": "stdout",
     "output_type": "stream",
     "text": [
      "My name is Ashirvad Desai , I am 26 years old , I have comleted my BE in Mechanical stream from Mumbai University .\n",
      "  There are 4 member in my family My hobbies are to playing cricket, swiming & reading My strengths are positive thinking, easily learn any activity,focus on smart working  Now i am studying Deta science My goal is to built new amazing model, which will mostly use all over world\n"
     ]
    }
   ],
   "source": [
    "print(a,\",\",b,\",\",c,\".\")\n",
    "print(\" \",d,e,f,g,h)"
   ]
  },
  {
   "cell_type": "code",
   "execution_count": 41,
   "id": "dcf3c6c7",
   "metadata": {},
   "outputs": [
    {
     "name": "stdout",
     "output_type": "stream",
     "text": [
      "My name is Ashirvad Desai. I am 26 years old. I have comleted my BE in Mechanical stream from Mumbai University.\n",
      "  My hobbies are to playing cricket, swiming & reading. My strengths are positive thinking, easily learn any activity,focus on smart working.  Now i am studying Deta science. My goal is to built new amazing model, which will mostly use all over world.\n",
      "  Also i have three year experince in manufscturing field.  In that i have 1.6 years experinced in CG power industrisl solution componey as a quality superviser.  after that, i have  1.5 years experince in Siemens organization as a Production & Planing Executive.  Currently i am working in siemens as a quality engineer.  My experties are Production & palning, PO creation, PR Creation, maintaing QM documents as per ISO-2015.  I have handled all the measuring instruments, like vernier caliper, Micrometer guage, Radius guage, etc.  I know all the process flow from Material in to final product. \n"
     ]
    }
   ],
   "source": [
    "print(a,end=\" \")\n",
    "print(b,end=\" \")\n",
    "print(c)\n",
    "print(\" \",e,end=\" \")\n",
    "print(f,end=\" \")\n",
    "print(g,end=\" \")\n",
    "print(h)\n",
    "print(\" \",i,j,k,l,m,n,o)"
   ]
  },
  {
   "cell_type": "code",
   "execution_count": null,
   "id": "ef224a68",
   "metadata": {},
   "outputs": [],
   "source": []
  }
 ],
 "metadata": {
  "kernelspec": {
   "display_name": "Python 3 (ipykernel)",
   "language": "python",
   "name": "python3"
  },
  "language_info": {
   "codemirror_mode": {
    "name": "ipython",
    "version": 3
   },
   "file_extension": ".py",
   "mimetype": "text/x-python",
   "name": "python",
   "nbconvert_exporter": "python",
   "pygments_lexer": "ipython3",
   "version": "3.9.7"
  }
 },
 "nbformat": 4,
 "nbformat_minor": 5
}

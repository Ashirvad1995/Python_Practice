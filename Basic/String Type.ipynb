{
 "cells": [
  {
   "cell_type": "code",
   "execution_count": 1,
   "id": "856744a8",
   "metadata": {},
   "outputs": [
    {
     "name": "stdout",
     "output_type": "stream",
     "text": [
      "My name is Ashirvad\n"
     ]
    },
    {
     "data": {
      "text/plain": [
       "str"
      ]
     },
     "execution_count": 1,
     "metadata": {},
     "output_type": "execute_result"
    }
   ],
   "source": [
    "x = \"My name is Ashirvad\"\n",
    "print(x)\n",
    "type(x)"
   ]
  },
  {
   "cell_type": "code",
   "execution_count": 2,
   "id": "51691fd3",
   "metadata": {},
   "outputs": [
    {
     "name": "stdout",
     "output_type": "stream",
     "text": [
      "My name is Ashirvad\n"
     ]
    },
    {
     "data": {
      "text/plain": [
       "str"
      ]
     },
     "execution_count": 2,
     "metadata": {},
     "output_type": "execute_result"
    }
   ],
   "source": [
    "y = 'My name is Ashirvad'\n",
    "print(y)\n",
    "type(y)"
   ]
  },
  {
   "cell_type": "code",
   "execution_count": 3,
   "id": "be43a25d",
   "metadata": {},
   "outputs": [
    {
     "name": "stdout",
     "output_type": "stream",
     "text": [
      "My name is 'Ashirvad'\n"
     ]
    },
    {
     "data": {
      "text/plain": [
       "21"
      ]
     },
     "execution_count": 3,
     "metadata": {},
     "output_type": "execute_result"
    }
   ],
   "source": [
    "x = \"My name is 'Ashirvad'\"\n",
    "print(x)\n",
    "len(x)"
   ]
  },
  {
   "cell_type": "code",
   "execution_count": 8,
   "id": "f289e44c",
   "metadata": {},
   "outputs": [
    {
     "name": "stdout",
     "output_type": "stream",
     "text": [
      "My name is \"Ashirvad\"\n",
      "<class 'str'>\n"
     ]
    },
    {
     "data": {
      "text/plain": [
       "21"
      ]
     },
     "execution_count": 8,
     "metadata": {},
     "output_type": "execute_result"
    }
   ],
   "source": [
    "y = 'My name is \"Ashirvad\"'\n",
    "print(y)\n",
    "print(type(y))\n",
    "len(y)"
   ]
  },
  {
   "cell_type": "code",
   "execution_count": 9,
   "id": "0a1c7060",
   "metadata": {},
   "outputs": [
    {
     "name": "stdout",
     "output_type": "stream",
     "text": [
      "\n",
      "My name is Ashirvad\n",
      "I am 26 years old\n",
      "\n"
     ]
    }
   ],
   "source": [
    "x = '''\n",
    "My name is Ashirvad\n",
    "I am 26 years old\n",
    "'''\n",
    "print(x)"
   ]
  },
  {
   "cell_type": "code",
   "execution_count": 10,
   "id": "735c3b82",
   "metadata": {},
   "outputs": [
    {
     "data": {
      "text/plain": [
       "'s'"
      ]
     },
     "execution_count": 10,
     "metadata": {},
     "output_type": "execute_result"
    }
   ],
   "source": [
    "# Positive Indexing( Its start counting from first letter & start from zero)\n",
    "x = \"My name is Ashirvad Desai\"\n",
    "x[12]"
   ]
  },
  {
   "cell_type": "code",
   "execution_count": 7,
   "id": "9948584d",
   "metadata": {},
   "outputs": [
    {
     "name": "stdout",
     "output_type": "stream",
     "text": [
      "m\n",
      "25\n"
     ]
    }
   ],
   "source": [
    "x = \"My name is Ashirvad Desai\"\n",
    "\n",
    "print(x[5])\n",
    "type(x)\n",
    "print(len(x))"
   ]
  },
  {
   "cell_type": "code",
   "execution_count": 12,
   "id": "0de3b49f",
   "metadata": {},
   "outputs": [
    {
     "data": {
      "text/plain": [
       "'e'"
      ]
     },
     "execution_count": 12,
     "metadata": {},
     "output_type": "execute_result"
    }
   ],
   "source": [
    "# Negative Indexing (its counting start from last letter)\n",
    "x = \"My name is Ashirvad Desai\"\n",
    "x[-4]"
   ]
  },
  {
   "cell_type": "code",
   "execution_count": 13,
   "id": "67de3b11",
   "metadata": {},
   "outputs": [
    {
     "ename": "TypeError",
     "evalue": "'str' object does not support item assignment",
     "output_type": "error",
     "traceback": [
      "\u001b[1;31m---------------------------------------------------------------------------\u001b[0m",
      "\u001b[1;31mTypeError\u001b[0m                                 Traceback (most recent call last)",
      "\u001b[1;32m~\\AppData\\Local\\Temp/ipykernel_10280/2402855287.py\u001b[0m in \u001b[0;36m<module>\u001b[1;34m\u001b[0m\n\u001b[0;32m      1\u001b[0m \u001b[1;31m# string is mutable cannot be replaceble value in the string.\u001b[0m\u001b[1;33m\u001b[0m\u001b[1;33m\u001b[0m\u001b[0m\n\u001b[0;32m      2\u001b[0m \u001b[0mx\u001b[0m \u001b[1;33m=\u001b[0m \u001b[1;34m\"My name is Ashirvad Desai\"\u001b[0m\u001b[1;33m\u001b[0m\u001b[1;33m\u001b[0m\u001b[0m\n\u001b[1;32m----> 3\u001b[1;33m \u001b[0mx\u001b[0m\u001b[1;33m[\u001b[0m\u001b[1;36m4\u001b[0m\u001b[1;33m]\u001b[0m \u001b[1;33m=\u001b[0m \u001b[1;34m\"a\"\u001b[0m\u001b[1;33m\u001b[0m\u001b[1;33m\u001b[0m\u001b[0m\n\u001b[0m",
      "\u001b[1;31mTypeError\u001b[0m: 'str' object does not support item assignment"
     ]
    }
   ],
   "source": [
    "# string is mutable cannot be replaceble value in the string.\n",
    "x = \"My name is Ashirvad Desai\"\n",
    "x[4] = \"a\""
   ]
  },
  {
   "cell_type": "code",
   "execution_count": 14,
   "id": "4254fde0",
   "metadata": {},
   "outputs": [
    {
     "data": {
      "text/plain": [
       "'y na'"
      ]
     },
     "execution_count": 14,
     "metadata": {},
     "output_type": "execute_result"
    }
   ],
   "source": [
    "# Slicing\n",
    "x = \"My name is Ashirvad Desai\"\n",
    "x[1:5]"
   ]
  },
  {
   "cell_type": "code",
   "execution_count": 17,
   "id": "10cb052f",
   "metadata": {},
   "outputs": [
    {
     "data": {
      "text/plain": [
       "'man '"
      ]
     },
     "execution_count": 17,
     "metadata": {},
     "output_type": "execute_result"
    }
   ],
   "source": [
    "x = \"My name is Ashirvad Desai\"\n",
    "x[5:1:-1]"
   ]
  },
  {
   "cell_type": "code",
   "execution_count": 18,
   "id": "e3dab4d9",
   "metadata": {},
   "outputs": [
    {
     "data": {
      "text/plain": [
       "'an y'"
      ]
     },
     "execution_count": 18,
     "metadata": {},
     "output_type": "execute_result"
    }
   ],
   "source": [
    "x = \"My name is Ashirvad Desai\"\n",
    "x [4:0:-1]"
   ]
  },
  {
   "cell_type": "code",
   "execution_count": 25,
   "id": "77b5d9cc",
   "metadata": {},
   "outputs": [
    {
     "data": {
      "text/plain": [
       "'iaseD davrihsA si eman y'"
      ]
     },
     "execution_count": 25,
     "metadata": {},
     "output_type": "execute_result"
    }
   ],
   "source": [
    "x = \"My name is Ashirvad Desai\"\n",
    "x[-1:0:-1]"
   ]
  },
  {
   "cell_type": "code",
   "execution_count": 26,
   "id": "addfdeb3",
   "metadata": {},
   "outputs": [
    {
     "data": {
      "text/plain": [
       "'My name is Ashirvad Desa'"
      ]
     },
     "execution_count": 26,
     "metadata": {},
     "output_type": "execute_result"
    }
   ],
   "source": [
    "x = \"My name is Ashirvad Desai\"\n",
    "x[0:-1]"
   ]
  },
  {
   "cell_type": "code",
   "execution_count": null,
   "id": "cbdc4d93",
   "metadata": {},
   "outputs": [],
   "source": [
    "x = \"My name is Ashirvad Desai\"\n",
    "x[-1:-10:-2]"
   ]
  },
  {
   "cell_type": "code",
   "execution_count": null,
   "id": "fabd460f",
   "metadata": {},
   "outputs": [],
   "source": [
    "# Python String Method"
   ]
  },
  {
   "cell_type": "code",
   "execution_count": 4,
   "id": "d3481d9b",
   "metadata": {},
   "outputs": [
    {
     "name": "stdout",
     "output_type": "stream",
     "text": [
      "Returns the copy of the string with its first character capitalized and the rest of the letters are in lowercased.\n"
     ]
    }
   ],
   "source": [
    "# 1. capitalize()\n",
    "# Syntax = string.capitalize()\n",
    "x =\"Returns The copy OF the string with its first character capitalized and the rest of the letters are in lowercased.\"\n",
    "y = x.capitalize()\n",
    "print(y)"
   ]
  },
  {
   "cell_type": "code",
   "execution_count": 6,
   "id": "1939cfac",
   "metadata": {},
   "outputs": [
    {
     "name": "stdout",
     "output_type": "stream",
     "text": [
      "the casefold() method returns a string where all the characters are in lower case.\n"
     ]
    }
   ],
   "source": [
    "# 2. Python String casefold() Method.\n",
    "# Syntax = string.casefold()\n",
    "x = \"The casefold() method returns a string where all the characters are in lower case.\"\n",
    "y = x.casefold()\n",
    "print(y)"
   ]
  },
  {
   "cell_type": "code",
   "execution_count": 9,
   "id": "8132e3ee",
   "metadata": {},
   "outputs": [
    {
     "name": "stdout",
     "output_type": "stream",
     "text": [
      "@@Ashirvad@@\n",
      "#####Ashirvad#####\n"
     ]
    }
   ],
   "source": [
    "# 3.Center()\n",
    "# Syntax = str.center(width,fillchar)\n",
    "x = \"Ashirvad\"\n",
    "print(x.center(12,'@'))\n",
    "print(x.center(18,'#'))"
   ]
  },
  {
   "cell_type": "code",
   "execution_count": 16,
   "id": "546e3fd2",
   "metadata": {},
   "outputs": [
    {
     "name": "stdout",
     "output_type": "stream",
     "text": [
      "2\n",
      "1\n"
     ]
    }
   ],
   "source": [
    "# 4.count()\n",
    "# Syntax = str.count(substring, start, end)\n",
    "x = \"My name is Ashirvad Desai. My sir name is Desai.\"\n",
    "y = x.count('Desai')\n",
    "print(y)\n",
    "z = x.count('Desai',0,30)\n",
    "print(z)"
   ]
  },
  {
   "cell_type": "code",
   "execution_count": 17,
   "id": "82234b40",
   "metadata": {},
   "outputs": [
    {
     "name": "stdout",
     "output_type": "stream",
     "text": [
      "True\n",
      "True\n",
      "True\n",
      "True\n",
      "False\n"
     ]
    }
   ],
   "source": [
    "#5. endswith()\n",
    "# Syntax = str.endswith(suffix, start, end)\n",
    "mystr = 'Python is a  programming language.'\n",
    "\n",
    "print(mystr.endswith('.')) # returns True\n",
    "print(mystr.endswith('age.')) # returns True\n",
    "print(mystr.endswith('language.')) # returns True\n",
    "print(mystr.endswith(' programming language.')) # returns True\n",
    "print(mystr.endswith('age')) # returns False, . is missing"
   ]
  },
  {
   "cell_type": "code",
   "execution_count": 18,
   "id": "59149885",
   "metadata": {},
   "outputs": [
    {
     "name": "stdout",
     "output_type": "stream",
     "text": [
      "False\n",
      "True\n",
      "True\n",
      "True\n"
     ]
    }
   ],
   "source": [
    "# The following example demonstrates the use of start and end parameters.\n",
    "mystr = 'Hello World'\n",
    "print(mystr.endswith('h', 0, 1)) # is 'H' endswith 'h'? False\n",
    "print(mystr.endswith('H', 0, 1)) # is 'H' endswith 'H'? True\n",
    "print(mystr.endswith('e', 0, 2)) # is 'He' endswith 'e'? True\n",
    "print(mystr.endswith('o', 0, 5)) # is 'Hello' endswith 'o'? True"
   ]
  },
  {
   "cell_type": "code",
   "execution_count": 19,
   "id": "30023df9",
   "metadata": {},
   "outputs": [
    {
     "name": "stdout",
     "output_type": "stream",
     "text": [
      "True\n",
      "False\n",
      "False\n"
     ]
    },
    {
     "data": {
      "text/plain": [
       "True"
      ]
     },
     "execution_count": 19,
     "metadata": {},
     "output_type": "execute_result"
    }
   ],
   "source": [
    "# The following example contains tuples as parameters.\n",
    "mystr = 'Tutorials Teacher is a free online tutorials website'\n",
    "print(mystr.endswith(('Tutorials','free','website'))) # returns True\n",
    "print(mystr.endswith(('Tutorials','free')))  # returns False\n",
    "print(mystr.endswith(('Tutorials','coding'), 7, 11)) # returns False\n",
    "mystr.endswith(('Tutorials','coding'), 0, 9) # returns True"
   ]
  },
  {
   "cell_type": "code",
   "execution_count": 20,
   "id": "1d1e409b",
   "metadata": {},
   "outputs": [
    {
     "name": "stdout",
     "output_type": "stream",
     "text": [
      "True\n",
      "True\n"
     ]
    }
   ],
   "source": [
    "# The endswith() function will always return True if an empty string is passed as a parameter.\n",
    "mystr = 'Hello World'\n",
    "print(mystr.endswith(''))\n",
    "print(mystr.endswith('', 1, 3))"
   ]
  },
  {
   "cell_type": "code",
   "execution_count": null,
   "id": "522ecc4c",
   "metadata": {},
   "outputs": [],
   "source": [
    "# 6. expandtabs()\n",
    "# Syntax = str.expandtabs(tabsize)\n",
    "# The following example demonstrates the expandtabs() method with default tab size 8.\n",
    " >>> '1234\\t'.expandtabs()\n",
    "'1234    '\n",
    ">>> '1234\\t1234'.expandtabs()\n",
    "'1234    1234'\n",
    ">>> '1234\\t1234\\t'.expandtabs()\n",
    "'1234    1234    '"
   ]
  },
  {
   "cell_type": "code",
   "execution_count": 26,
   "id": "feec9e6d",
   "metadata": {},
   "outputs": [
    {
     "name": "stdout",
     "output_type": "stream",
     "text": [
      "1234\n",
      "x       \n"
     ]
    }
   ],
   "source": [
    "x = '1234'\n",
    "print(x.expandtabs(8))\n",
    "print('x\\t'.expandtabs(8))"
   ]
  },
  {
   "cell_type": "code",
   "execution_count": 28,
   "id": "5ba49d29",
   "metadata": {},
   "outputs": [
    {
     "data": {
      "text/plain": [
       "'1234    '"
      ]
     },
     "execution_count": 28,
     "metadata": {},
     "output_type": "execute_result"
    }
   ],
   "source": [
    "'1234\\t'.expandtabs(8)"
   ]
  },
  {
   "cell_type": "code",
   "execution_count": 35,
   "id": "97a7db86",
   "metadata": {},
   "outputs": [
    {
     "data": {
      "text/plain": [
       "'1234 '"
      ]
     },
     "execution_count": 35,
     "metadata": {},
     "output_type": "execute_result"
    }
   ],
   "source": [
    "'1234\\t'.expandtabs(5)"
   ]
  },
  {
   "cell_type": "code",
   "execution_count": null,
   "id": "a1f6a88e",
   "metadata": {},
   "outputs": [],
   "source": [
    "#7. find()\n",
    "# The find() method returns the index of the first occurence of a substring in the given string (case-sensitive).\n",
    "# If the substring is not found it returns -1.\n",
    "# Syntax = str.find(substr,strat,end)"
   ]
  },
  {
   "cell_type": "code",
   "execution_count": 36,
   "id": "5ee2fdcd",
   "metadata": {},
   "outputs": [
    {
     "name": "stdout",
     "output_type": "stream",
     "text": [
      "Index of 'H': 0\n",
      "Index of 'h': -1\n",
      "Index of 'e': 1\n",
      "Index of 'word': 6\n"
     ]
    }
   ],
   "source": [
    "#The following examples demonstrates find() method.\n",
    "x = 'Hello word!'\n",
    "print(\"Index of 'H':\", x.find('H'))\n",
    "print(\"Index of 'h':\", x.find('h'))\n",
    "print(\"Index of 'e':\", x.find('e'))\n",
    "print(\"Index of 'word':\", x.find('word'))"
   ]
  },
  {
   "cell_type": "code",
   "execution_count": 6,
   "id": "e2ff62fd",
   "metadata": {},
   "outputs": [
    {
     "name": "stdout",
     "output_type": "stream",
     "text": [
      "Index of H:  0\n",
      "Index of w:  6\n",
      "Index of w:  6\n",
      "Index of l:  3\n"
     ]
    }
   ],
   "source": [
    "#8. Index()\n",
    "# Syntax = str.index(substr,start,end)\n",
    "# The index() method returns the index of the first occurence of a substring in the given string.\n",
    "x = \"Hello word!\"\n",
    "print(\"Index of H: \",x.index(\"H\"))\n",
    "print(\"Index of w: \",x.index(\"w\"))\n",
    "print(\"Index of w: \",x.index(\"w\",5,10))\n",
    "print(\"Index of l: \",x.index(\"l\",3,5))"
   ]
  },
  {
   "cell_type": "code",
   "execution_count": 9,
   "id": "5e25c8ec",
   "metadata": {},
   "outputs": [
    {
     "name": "stdout",
     "output_type": "stream",
     "text": [
      "True\n",
      "True\n",
      "True\n",
      "False\n",
      "False\n"
     ]
    }
   ],
   "source": [
    "#9. isalnum()\n",
    "# Syntax = str.isalnum\n",
    "# The isalnum() method returns True if all characters in the string are alphanumeric (either alphabets or numbers). \n",
    "# If not, it returns False.\n",
    "x = \"Hello123\"\n",
    "print(x.isalnum())\n",
    "\n",
    "y = '123555'\n",
    "print(y.isalnum())\n",
    "\n",
    "z = 'Ashirvad'\n",
    "print(z.isalnum())\n",
    "\n",
    "a = \"#123\"\n",
    "print(a.isalnum())\n",
    "\n",
    "b = \"My name\\tashirvad\"\n",
    "print(b.isalnum())"
   ]
  },
  {
   "cell_type": "code",
   "execution_count": 12,
   "id": "cd37b990",
   "metadata": {},
   "outputs": [
    {
     "name": "stdout",
     "output_type": "stream",
     "text": [
      "True\n",
      "False\n",
      "False\n"
     ]
    }
   ],
   "source": [
    "#10. isalpha()\n",
    "# syntax = str.isalpha()\n",
    "# The isalpha() method returns True if all characters in a string are alphabetic (both lowercase and uppercase) and\n",
    "# returns False if at least one character is not an alphabet.\n",
    "# The whitespace, numerics, and symbols are considered as non-alphabetical characters.\n",
    "\n",
    "x = \"ashirvad\"\n",
    "print(x.isalpha())\n",
    "\n",
    "y = '123'\n",
    "print(y.isalpha())\n",
    "\n",
    "z = 'Ashir vad@'\n",
    "print(z.isalpha())"
   ]
  },
  {
   "cell_type": "code",
   "execution_count": 14,
   "id": "73f56d72",
   "metadata": {},
   "outputs": [
    {
     "name": "stdout",
     "output_type": "stream",
     "text": [
      "True\n",
      "False\n"
     ]
    }
   ],
   "source": [
    "#11. isdecimal()\n",
    "#str.isdecimaal()\n",
    "# The isdecimal() method returns True if all characters in a string are decimal characters. If not, it returns False.\n",
    "\n",
    "x = '1255'\n",
    "print(x.isdecimal())\n",
    "\n",
    "y = '12.35'\n",
    "print(y.isdecimal())"
   ]
  },
  {
   "cell_type": "code",
   "execution_count": 19,
   "id": "b3629334",
   "metadata": {},
   "outputs": [
    {
     "name": "stdout",
     "output_type": "stream",
     "text": [
      "True\n",
      "False\n"
     ]
    }
   ],
   "source": [
    "#12. isdigit()\n",
    "# str.isdigit()\n",
    "# The isdigit() method returns True if all characters in a string are digits or Unicode char of a digit. \n",
    "#If not, it returns False.\n",
    "\n",
    "x = '1235'\n",
    "print(x.isdigit())\n",
    "\n",
    "y = '12.350'\n",
    "print(y.isdigit())"
   ]
  },
  {
   "cell_type": "code",
   "execution_count": 20,
   "id": "723dbc4d",
   "metadata": {},
   "outputs": [
    {
     "name": "stdout",
     "output_type": "stream",
     "text": [
      "True\n",
      "False\n"
     ]
    }
   ],
   "source": [
    "#13. isidentifier\n",
    "# Syntax = str.isidentifier()\n",
    "# The isidentifier() method checks whether a string is valid identifier string or not. \n",
    "# It returns True if the string is a valid identifier otherwise returns False.\n",
    "x = 'ashirvad'\n",
    "print(x.isidentifier())\n",
    "\n",
    "y = '3ggg'\n",
    "print(y.isidentifier())"
   ]
  },
  {
   "cell_type": "code",
   "execution_count": 21,
   "id": "d7dbb087",
   "metadata": {},
   "outputs": [
    {
     "name": "stdout",
     "output_type": "stream",
     "text": [
      "True\n",
      "False\n"
     ]
    }
   ],
   "source": [
    "#14. islower()\n",
    "# Syntax = str.islower()\n",
    "# The islower() method checks whether all the characters of a given string are lowercased or not.\n",
    "# It returns True if all characters are lowercased and False even if one character is uppercase.\n",
    "\n",
    "x = 'hello word'\n",
    "print(x.islower())\n",
    "\n",
    "y = 'Hello Word'\n",
    "print(y.islower())"
   ]
  },
  {
   "cell_type": "code",
   "execution_count": 23,
   "id": "860042fc",
   "metadata": {},
   "outputs": [
    {
     "name": "stdout",
     "output_type": "stream",
     "text": [
      "True\n",
      "False\n",
      "False\n"
     ]
    }
   ],
   "source": [
    "#15. isnumeric()\n",
    "# syntax = str.isnumeric()\n",
    "# The str.isnumeric() checks whether all the characters of the string are numeric characters or not.\n",
    "#It will return True if all characters are numeric and will return False even if one character is non-numeric.\n",
    "\n",
    "x = '1524'\n",
    "print(x.isnumeric())\n",
    "\n",
    "y = '1223f'\n",
    "print(y.isnumeric())\n",
    "\n",
    "z = '230.54'\n",
    "print(z.isnumeric())"
   ]
  }
 ],
 "metadata": {
  "kernelspec": {
   "display_name": "Python 3 (ipykernel)",
   "language": "python",
   "name": "python3"
  },
  "language_info": {
   "codemirror_mode": {
    "name": "ipython",
    "version": 3
   },
   "file_extension": ".py",
   "mimetype": "text/x-python",
   "name": "python",
   "nbconvert_exporter": "python",
   "pygments_lexer": "ipython3",
   "version": "3.9.7"
  }
 },
 "nbformat": 4,
 "nbformat_minor": 5
}

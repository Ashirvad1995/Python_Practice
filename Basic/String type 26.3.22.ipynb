{
 "cells": [
  {
   "cell_type": "code",
   "execution_count": 23,
   "id": "1e00c58a",
   "metadata": {},
   "outputs": [
    {
     "name": "stdout",
     "output_type": "stream",
     "text": [
      "True\n",
      "False\n"
     ]
    }
   ],
   "source": [
    "#1. isprintable()\n",
    "# The isprintable() method returns True if all the characters of the given string are Printable.\n",
    "#It returns False even if one character is Non-Printable.\n",
    "#The uppercase and lowercase alphabets, numerical values, symbols, and empty string all come under printable characters.\n",
    "# All escape characters such as '\\n', '\\t', '\\r', '\\x16', '\\xlf', etc. come under Non-Printable characters.\n",
    "\n",
    "# Syntax = str.isprintable()\n",
    "\n",
    "x = \"My name is ashirvad\"\n",
    "print(x.isprintable())\n",
    "\n",
    "y = \"My name is\\tAshirvad\"\n",
    "print(y.isprintable())"
   ]
  },
  {
   "cell_type": "code",
   "execution_count": 20,
   "id": "75a109ec",
   "metadata": {},
   "outputs": [
    {
     "name": "stdout",
     "output_type": "stream",
     "text": [
      "True\n",
      "True\n",
      "False\n",
      "False\n"
     ]
    }
   ],
   "source": [
    "#2. isspace()\n",
    "# Syntax = str.isspace()\n",
    "# The isspace() method returns True if all the characters of the given string are whitespaces.\n",
    "# It returns False even if one character is not whitespace.\n",
    "\n",
    "x = \"    \"\n",
    "print(x.isspace())\n",
    "\n",
    "y = \"\\t\"\n",
    "print(y.isspace())\n",
    "\n",
    "z = ' a a'\n",
    "print(z.isspace())\n",
    "\n",
    "a = 'ad'\n",
    "print(a.isspace())"
   ]
  },
  {
   "cell_type": "code",
   "execution_count": 22,
   "id": "eec58de3",
   "metadata": {},
   "outputs": [
    {
     "name": "stdout",
     "output_type": "stream",
     "text": [
      "True\n",
      "False\n"
     ]
    }
   ],
   "source": [
    "#3. istitle()\n",
    "# Syntax = str.istitle()\n",
    "# The istitle() method checks whether each word's first character is upper case and the rest are in lower case or not.\n",
    "# It returns True if a string is titlecased; otherwise, it returns False. The symbols and numbers are ignored.\n",
    "\n",
    "x = 'Hello Word'\n",
    "print(x.istitle())\n",
    "\n",
    "y = \"hello Word\"\n",
    "print(y.istitle())"
   ]
  },
  {
   "cell_type": "code",
   "execution_count": 24,
   "id": "d060b64d",
   "metadata": {},
   "outputs": [
    {
     "name": "stdout",
     "output_type": "stream",
     "text": [
      "True\n",
      "False\n"
     ]
    }
   ],
   "source": [
    "#4. isupper()\n",
    "#Syntax = str.isupper()\n",
    "#The isupper() method checks whether all the characters of a given string are uppercase or not.\n",
    "# It returns True if all characters are uppercase and False even if one character is not in uppercase.\n",
    "\n",
    "x = 'HELLO'\n",
    "print(x.isupper())\n",
    "\n",
    "y = 'Hello'\n",
    "print(y.isupper())"
   ]
  },
  {
   "cell_type": "code",
   "execution_count": 25,
   "id": "2062b398",
   "metadata": {},
   "outputs": [
    {
     "name": "stdout",
     "output_type": "stream",
     "text": [
      "ashirvad\n"
     ]
    }
   ],
   "source": [
    "#5. lower()\n",
    "# Syntax= str.lower()\n",
    "# The lower() method returns the copy of the original string wherein all the characters are converted to lowercase.\n",
    "\n",
    "x = 'AsHirVaD'\n",
    "print(x.lower())"
   ]
  }
 ],
 "metadata": {
  "kernelspec": {
   "display_name": "Python 3 (ipykernel)",
   "language": "python",
   "name": "python3"
  },
  "language_info": {
   "codemirror_mode": {
    "name": "ipython",
    "version": 3
   },
   "file_extension": ".py",
   "mimetype": "text/x-python",
   "name": "python",
   "nbconvert_exporter": "python",
   "pygments_lexer": "ipython3",
   "version": "3.9.7"
  }
 },
 "nbformat": 4,
 "nbformat_minor": 5
}

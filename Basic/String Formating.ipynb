{
 "cells": [
  {
   "cell_type": "code",
   "execution_count": 1,
   "id": "09764524",
   "metadata": {},
   "outputs": [],
   "source": [
    "# Formating  string using % operator"
   ]
  },
  {
   "cell_type": "code",
   "execution_count": 2,
   "id": "92fff63a",
   "metadata": {},
   "outputs": [
    {
     "name": "stdout",
     "output_type": "stream",
     "text": [
      "i am Ashirvad Desai.\n"
     ]
    }
   ],
   "source": [
    "print(\"i am %s Desai.\" %'Ashirvad')"
   ]
  },
  {
   "cell_type": "code",
   "execution_count": 3,
   "id": "64af06a2",
   "metadata": {},
   "outputs": [],
   "source": [
    "# Injecting multiple strings using % operator"
   ]
  },
  {
   "cell_type": "code",
   "execution_count": 4,
   "id": "764864a4",
   "metadata": {},
   "outputs": [
    {
     "name": "stdout",
     "output_type": "stream",
     "text": [
      " I am Smart and Honest.\n"
     ]
    }
   ],
   "source": [
    "x = 'Honest'\n",
    "print(\" I am %s and %s.\" %('Smart',x))"
   ]
  },
  {
   "cell_type": "code",
   "execution_count": 5,
   "id": "ab26b4e6",
   "metadata": {},
   "outputs": [],
   "source": [
    "# ‘%s’ is used to inject strings similarly ‘%d’ for integers, ‘%f’ for floating-point values, ‘%b’ for binary format. \n",
    "#For all formats, conversion methods visit the official documentation."
   ]
  },
  {
   "cell_type": "code",
   "execution_count": 1,
   "id": "1379b2dc",
   "metadata": {},
   "outputs": [
    {
     "name": "stdout",
     "output_type": "stream",
     "text": [
      " I am speaking english.\n",
      " There are 4 member in my family.\n",
      " My pointer is 9.800000\n"
     ]
    }
   ],
   "source": [
    "print(\" I am %s english.\" %'speaking')\n",
    "print(\" There are %d member in my family.\" %4)\n",
    "print(\" My pointer is %f\"%9.8)"
   ]
  },
  {
   "cell_type": "code",
   "execution_count": 10,
   "id": "a298ddfc",
   "metadata": {},
   "outputs": [],
   "source": [
    "# Float precision with the placeholder method:\n",
    "# Float point precision using % operator\n"
   ]
  },
  {
   "cell_type": "code",
   "execution_count": 93,
   "id": "63d8c72d",
   "metadata": {},
   "outputs": [
    {
     "name": "stdout",
     "output_type": "stream",
     "text": [
      "The value of pi is :     3.1453\n"
     ]
    }
   ],
   "source": [
    "print(\"The value of pi is : %10.4f\" %(3.145278))"
   ]
  },
  {
   "cell_type": "code",
   "execution_count": 19,
   "id": "55bc1df7",
   "metadata": {},
   "outputs": [
    {
     "name": "stdout",
     "output_type": "stream",
     "text": [
      "The value of pi is :   3.1453\n",
      "The value of pi is :       3.1453\n",
      "The value of pi is : 3.14527800\n"
     ]
    }
   ],
   "source": [
    "print(\"The value of pi is : %8.4f\" %(3.145278))\n",
    "print(\"The value of pi is : %12.4f\" %(3.145278))\n",
    "print(\"The value of pi is : %8.8f\" %(3.145278))"
   ]
  },
  {
   "cell_type": "code",
   "execution_count": 20,
   "id": "40a3107d",
   "metadata": {},
   "outputs": [],
   "source": [
    "#You can use multiple format conversion types in a single print statement"
   ]
  },
  {
   "cell_type": "code",
   "execution_count": 92,
   "id": "5e199039",
   "metadata": {},
   "outputs": [
    {
     "name": "stdout",
     "output_type": "stream",
     "text": [
      "variable as integer = 42 \n",
      "variable as float = 42.000000\n"
     ]
    }
   ],
   "source": [
    "variable = 42\n",
    "\n",
    "string = \"variable as integer = %d \\n\\\n",
    "variable as float = %f\" %(variable, variable)\n",
    "\n",
    "print(string)"
   ]
  },
  {
   "cell_type": "code",
   "execution_count": 39,
   "id": "54fec485",
   "metadata": {},
   "outputs": [],
   "source": [
    "# Formatting string using format() method"
   ]
  },
  {
   "cell_type": "code",
   "execution_count": null,
   "id": "336007e8",
   "metadata": {},
   "outputs": [],
   "source": [
    "\"\"\"Format() method was introduced with Python3 for handling complex string formatting more efficiently. \n",
    "Formatters work by putting in one or more replacement fields and placeholders defined by a pair of \n",
    "curly braces { } into a string and calling the str.format(). \n",
    "The value we wish to put into the placeholders and concatenate with the string passed\n",
    "as parameters into the format function. \"\"\""
   ]
  },
  {
   "cell_type": "code",
   "execution_count": 41,
   "id": "08c6fa24",
   "metadata": {},
   "outputs": [
    {
     "name": "stdout",
     "output_type": "stream",
     "text": [
      "we all are equal.\n"
     ]
    }
   ],
   "source": [
    "print('we all are {}.' .format('equal'))"
   ]
  },
  {
   "cell_type": "code",
   "execution_count": 42,
   "id": "a02ddcde",
   "metadata": {},
   "outputs": [],
   "source": [
    "# The.format() method has many advantages over the placeholder method:\n",
    "\n",
    "# We can insert object by using index-based position:"
   ]
  },
  {
   "cell_type": "code",
   "execution_count": 44,
   "id": "60d2c943",
   "metadata": {},
   "outputs": [
    {
     "name": "stdout",
     "output_type": "stream",
     "text": [
      "Read the directios.\n"
     ]
    }
   ],
   "source": [
    "print('{2} {1} {0}.'.format('directios','the','Read'))"
   ]
  },
  {
   "cell_type": "code",
   "execution_count": 45,
   "id": "b68e7d41",
   "metadata": {},
   "outputs": [],
   "source": [
    "#We can insert objects by using assigned keywords:\n"
   ]
  },
  {
   "cell_type": "code",
   "execution_count": 48,
   "id": "a5bd57fd",
   "metadata": {},
   "outputs": [
    {
     "name": "stdout",
     "output_type": "stream",
     "text": [
      "a:1, b: Two, c: 12.3.\n"
     ]
    }
   ],
   "source": [
    "print('a:{a}, b: {b}, c: {c}.'.format(a = 1,\n",
    "                                       b ='Two',\n",
    "                                       c = 12.3))"
   ]
  },
  {
   "cell_type": "code",
   "execution_count": 49,
   "id": "1ec1981f",
   "metadata": {},
   "outputs": [],
   "source": [
    "# We can reuse the inserted objects to avoid duplication:"
   ]
  },
  {
   "cell_type": "code",
   "execution_count": 50,
   "id": "96fd14d8",
   "metadata": {},
   "outputs": [
    {
     "name": "stdout",
     "output_type": "stream",
     "text": [
      "The first second was alright, but the second second was tough.\n"
     ]
    }
   ],
   "source": [
    "print('The first {p} was alright, but the {p} {p} was tough.'.format(p = 'second'))"
   ]
  },
  {
   "cell_type": "code",
   "execution_count": null,
   "id": "7cf62a69",
   "metadata": {},
   "outputs": [],
   "source": [
    "# Float precision with the.format() method:\n",
    "# Syntax: {[index]:[width][.precision][type]}\n",
    "# The type can be used with format codes:\n",
    "'''\n",
    "‘d’ for integers\n",
    "‘f’ for floating-point numbers\n",
    "‘b’ for binary numbers\n",
    "‘o’ for octal numbers\n",
    "‘x’ for octal hexadecimal numbers\n",
    "‘s’ for string\n",
    "‘e’ for floating-point in an exponent format\n",
    "'''"
   ]
  },
  {
   "cell_type": "code",
   "execution_count": 58,
   "id": "2bf5d843",
   "metadata": {},
   "outputs": [
    {
     "name": "stdout",
     "output_type": "stream",
     "text": [
      "The value of pi is :    3.14159\n",
      "The value of pi is :    3.14159\n"
     ]
    }
   ],
   "source": [
    "print('The value of pi is : %10.5f' %3.141592)\n",
    "#vs\n",
    "print('The value of pi is : {0:10.5f}'.format(3.141592))"
   ]
  },
  {
   "cell_type": "code",
   "execution_count": 59,
   "id": "43c91cc7",
   "metadata": {},
   "outputs": [],
   "source": [
    "# Formatted String using F-strings\n",
    "# To create an f-string, prefix the string with the letter “ f ”. \n",
    "# The string itself can be formatted in much the same way that you would with str.format(). \n",
    "# F-strings provide a concise and convenient way to embed python expressions inside string literals for formatting.\n"
   ]
  },
  {
   "cell_type": "code",
   "execution_count": 60,
   "id": "f2c2aa14",
   "metadata": {},
   "outputs": [],
   "source": [
    "# Formatting string with F-Strings"
   ]
  },
  {
   "cell_type": "code",
   "execution_count": 63,
   "id": "fb035ca0",
   "metadata": {},
   "outputs": [
    {
     "name": "stdout",
     "output_type": "stream",
     "text": [
      " My name is Ele.\n"
     ]
    }
   ],
   "source": [
    "name = 'Ele'\n",
    "print(f' My name is {name}.')"
   ]
  },
  {
   "cell_type": "code",
   "execution_count": 64,
   "id": "9b135916",
   "metadata": {},
   "outputs": [],
   "source": [
    "# Arithmetic operations using F-strings"
   ]
  },
  {
   "cell_type": "code",
   "execution_count": 70,
   "id": "da29bdef",
   "metadata": {},
   "outputs": [
    {
     "name": "stdout",
     "output_type": "stream",
     "text": [
      " My age is 26.\n"
     ]
    }
   ],
   "source": [
    "a = 6\n",
    "b = 7\n",
    "print(f\" My age is {2*(a+b)}.\")"
   ]
  },
  {
   "cell_type": "code",
   "execution_count": 71,
   "id": "c92e3250",
   "metadata": {},
   "outputs": [],
   "source": [
    "# We can also use lambda expressions in f-string formatting.\n",
    "#Example: Lambda Expressions using F-strings"
   ]
  },
  {
   "cell_type": "code",
   "execution_count": 74,
   "id": "f1dd99df",
   "metadata": {},
   "outputs": [
    {
     "name": "stdout",
     "output_type": "stream",
     "text": [
      " He said his age is 30.\n"
     ]
    }
   ],
   "source": [
    "print(f\" He said his age is {(lambda x: x*10)(3)}.\")"
   ]
  },
  {
   "cell_type": "code",
   "execution_count": 75,
   "id": "7a242db6",
   "metadata": {},
   "outputs": [],
   "source": [
    "# Float precision in the f-String method:\n",
    "#Syntax: {value:{width}.{precision}}"
   ]
  },
  {
   "cell_type": "code",
   "execution_count": 83,
   "id": "fef86c1e",
   "metadata": {},
   "outputs": [
    {
     "name": "stdout",
     "output_type": "stream",
     "text": [
      "The value of pi is: 3.147859\n"
     ]
    }
   ],
   "source": [
    "num = 3.147859\n",
    "print(f'The value of pi is:{num: {1}.{10}}')"
   ]
  },
  {
   "cell_type": "code",
   "execution_count": 89,
   "id": "36340447",
   "metadata": {},
   "outputs": [],
   "source": [
    "variable = 12\n",
    "string = \"Variable as integer = %d \\n\\\n",
    " Variable as float = %f\" %(variable, variable)"
   ]
  }
 ],
 "metadata": {
  "kernelspec": {
   "display_name": "Python 3 (ipykernel)",
   "language": "python",
   "name": "python3"
  },
  "language_info": {
   "codemirror_mode": {
    "name": "ipython",
    "version": 3
   },
   "file_extension": ".py",
   "mimetype": "text/x-python",
   "name": "python",
   "nbconvert_exporter": "python",
   "pygments_lexer": "ipython3",
   "version": "3.9.7"
  }
 },
 "nbformat": 4,
 "nbformat_minor": 5
}

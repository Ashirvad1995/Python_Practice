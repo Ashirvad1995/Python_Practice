{
 "cells": [
  {
   "cell_type": "code",
   "execution_count": 1,
   "id": "991002ed",
   "metadata": {},
   "outputs": [
    {
     "name": "stdout",
     "output_type": "stream",
     "text": [
      "['Delhi', 'Agra', 'Jaipur']\n",
      "Enter city from above list :Agra\n",
      "Taj Mahal\n"
     ]
    }
   ],
   "source": [
    "#10. Accept any city from the user and display monument of that city.\n",
    "#                  City                                 Monument\n",
    "#                  Delhi                               Red Fort\n",
    "#                  Agra                                Taj Mahal\n",
    "#                 Jaipur                              Jal Mahal\n",
    "\n",
    "a = [\"Delhi\",\"Agra\",\"Jaipur\"]\n",
    "print(a)\n",
    "city = input(\"Enter city from above list :\")\n",
    "\n",
    "if city == \"Delhi\":\n",
    "    print(\"Red Fort\")\n",
    "elif city == \"Agra\":\n",
    "    print(\"Taj Mahal\")\n",
    "else:\n",
    "    print(\"Jal Mahal\")\n",
    "\n"
   ]
  },
  {
   "cell_type": "code",
   "execution_count": null,
   "id": "cd01e8e6",
   "metadata": {},
   "outputs": [],
   "source": []
  }
 ],
 "metadata": {
  "kernelspec": {
   "display_name": "Python 3 (ipykernel)",
   "language": "python",
   "name": "python3"
  },
  "language_info": {
   "codemirror_mode": {
    "name": "ipython",
    "version": 3
   },
   "file_extension": ".py",
   "mimetype": "text/x-python",
   "name": "python",
   "nbconvert_exporter": "python",
   "pygments_lexer": "ipython3",
   "version": "3.9.7"
  }
 },
 "nbformat": 4,
 "nbformat_minor": 5
}

{
 "cells": [
  {
   "cell_type": "code",
   "execution_count": 1,
   "id": "aeedb28e",
   "metadata": {},
   "outputs": [],
   "source": [
    "# 7. Accept the following from the user and calculate the percentage of class attended:\n",
    "#a.  Total number of working days\n",
    "#b.  Total number of days for present\n",
    "#    After calculating percentage show that, If the percentage is less than 75, than student will not be able to sit in exam."
   ]
  },
  {
   "cell_type": "code",
   "execution_count": 1,
   "id": "a9ebf4cd",
   "metadata": {},
   "outputs": [
    {
     "name": "stdout",
     "output_type": "stream",
     "text": [
      "Enter total number of working days : 180\n",
      "Enter total number of present days : 240\n",
      "Student will be able to sit in exam.\n"
     ]
    }
   ],
   "source": [
    "x = int(input(\"Enter total number of working days : \"))\n",
    "y = int(input(\"Enter total number of present days : \"))\n",
    "percentage =(y/x)*100\n",
    "if percentage < 75:\n",
    "    print(\"Student will not be able to sit in exam.\")\n",
    "else:\n",
    "    print(\"Student will be able to sit in exam.\")"
   ]
  },
  {
   "cell_type": "code",
   "execution_count": null,
   "id": "293d534c",
   "metadata": {},
   "outputs": [],
   "source": []
  }
 ],
 "metadata": {
  "kernelspec": {
   "display_name": "Python 3 (ipykernel)",
   "language": "python",
   "name": "python3"
  },
  "language_info": {
   "codemirror_mode": {
    "name": "ipython",
    "version": 3
   },
   "file_extension": ".py",
   "mimetype": "text/x-python",
   "name": "python",
   "nbconvert_exporter": "python",
   "pygments_lexer": "ipython3",
   "version": "3.9.7"
  }
 },
 "nbformat": 4,
 "nbformat_minor": 5
}

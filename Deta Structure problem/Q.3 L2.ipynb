{
 "cells": [
  {
   "cell_type": "code",
   "execution_count": 2,
   "id": "e78683eb",
   "metadata": {},
   "outputs": [],
   "source": [
    "#3. Accept three sides of a triangle and check whether it is an equilateral, isosceles or scalene triangle.\n",
    "# Note :\n",
    "# An equilateral triangle is a triangle in which all three sides are equal.\n",
    "# A scalene triangle is a triangle that has three unequal sides.\n",
    "# An isosceles triangle is a triangle with (at least) two equal sides.\n"
   ]
  },
  {
   "cell_type": "code",
   "execution_count": 1,
   "id": "eb574a7c",
   "metadata": {},
   "outputs": [
    {
     "name": "stdout",
     "output_type": "stream",
     "text": [
      "enter first side :87\n",
      "enter second side :95\n",
      "enter third side :54\n",
      "given tringle is scalene\n"
     ]
    }
   ],
   "source": [
    "side1 = int(input(\"enter first side :\"))\n",
    "side2 = int(input(\"enter second side :\"))\n",
    "side3 = int(input(\"enter third side :\"))\n",
    "if (side1 == side2)and(side2 == side3)or(side3 == side1):\n",
    "    print(\"Given triangle is isosceles\")\n",
    "elif (side1 != side2)and(side2 != side3)and(side3 != side1):\n",
    "    print(\"given tringle is scalene\")\n",
    "else:\n",
    "    print(\"Given tringle is equilateral\")"
   ]
  },
  {
   "cell_type": "code",
   "execution_count": null,
   "id": "e7711516",
   "metadata": {},
   "outputs": [],
   "source": []
  }
 ],
 "metadata": {
  "kernelspec": {
   "display_name": "Python 3 (ipykernel)",
   "language": "python",
   "name": "python3"
  },
  "language_info": {
   "codemirror_mode": {
    "name": "ipython",
    "version": 3
   },
   "file_extension": ".py",
   "mimetype": "text/x-python",
   "name": "python",
   "nbconvert_exporter": "python",
   "pygments_lexer": "ipython3",
   "version": "3.9.7"
  }
 },
 "nbformat": 4,
 "nbformat_minor": 5
}

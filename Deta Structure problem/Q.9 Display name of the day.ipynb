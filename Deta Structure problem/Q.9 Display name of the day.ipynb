{
 "cells": [
  {
   "cell_type": "code",
   "execution_count": 2,
   "id": "e86cbcc4",
   "metadata": {},
   "outputs": [
    {
     "name": "stdout",
     "output_type": "stream",
     "text": [
      "Please enter number between 1 to 7 :5\n",
      "5. Thursday\n"
     ]
    }
   ],
   "source": [
    "#9. Write a program to accept the number from 1 to 7 and display the name of the day like 1 for sunday,2 for monday and so on.\n",
    "\n",
    "x = int(input(\"Please enter number between 1 to 7 :\"))\n",
    "\n",
    "if x == 1:\n",
    "    print(\"1. Sunday\")\n",
    "elif x == 2:\n",
    "    print(\"2. Monday\")\n",
    "elif x == 3:\n",
    "    print(\"3. Tuesday\")\n",
    "elif x == 4:\n",
    "    print(\"4. Wendesday\")\n",
    "elif x == 5:\n",
    "    print(\"5. Thursday\")\n",
    "elif x == 6:\n",
    "    print(\"6. Friday\")\n",
    "elif x == 7:\n",
    "    print(\"7. Saturday\")\n",
    "    \n",
    "    "
   ]
  },
  {
   "cell_type": "code",
   "execution_count": null,
   "id": "dfd532fd",
   "metadata": {},
   "outputs": [],
   "source": []
  }
 ],
 "metadata": {
  "kernelspec": {
   "display_name": "Python 3 (ipykernel)",
   "language": "python",
   "name": "python3"
  },
  "language_info": {
   "codemirror_mode": {
    "name": "ipython",
    "version": 3
   },
   "file_extension": ".py",
   "mimetype": "text/x-python",
   "name": "python",
   "nbconvert_exporter": "python",
   "pygments_lexer": "ipython3",
   "version": "3.9.7"
  }
 },
 "nbformat": 4,
 "nbformat_minor": 5
}

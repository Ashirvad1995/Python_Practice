{
 "cells": [
  {
   "cell_type": "code",
   "execution_count": null,
   "id": "fff11a3a",
   "metadata": {},
   "outputs": [],
   "source": [
    "# 12. Make a simple calculator using input."
   ]
  },
  {
   "cell_type": "code",
   "execution_count": 3,
   "id": "35e3408d",
   "metadata": {},
   "outputs": [
    {
     "name": "stdout",
     "output_type": "stream",
     "text": [
      "Enter value : 12\n",
      "+ - * / // %\n",
      "Enter operator : +\n",
      "Enter value : 55\n",
      "67\n"
     ]
    }
   ],
   "source": [
    "x = int(input(\"Enter value : \"))\n",
    "print(\"\" '+', '-', '*', '/', '//', '%' \"\")\n",
    "z = input(\"Enter operator : \")\n",
    "y = int(input(\"Enter value : \"))\n",
    "\n",
    "\n",
    "if z == \"+\":\n",
    "    print(x+y)\n",
    "elif z == \"-\":\n",
    "    print(x-y)\n",
    "elif z == \"*\":\n",
    "    print(x*y)\n",
    "elif z == \"/\":\n",
    "    print(x/y)\n",
    "elif z == \"//\":\n",
    "    print(x//y)\n",
    "elif z == \"%\":\n",
    "    print(x%y)\n",
    "\n",
    "    "
   ]
  },
  {
   "cell_type": "code",
   "execution_count": null,
   "id": "353f1657",
   "metadata": {},
   "outputs": [],
   "source": []
  }
 ],
 "metadata": {
  "kernelspec": {
   "display_name": "Python 3 (ipykernel)",
   "language": "python",
   "name": "python3"
  },
  "language_info": {
   "codemirror_mode": {
    "name": "ipython",
    "version": 3
   },
   "file_extension": ".py",
   "mimetype": "text/x-python",
   "name": "python",
   "nbconvert_exporter": "python",
   "pygments_lexer": "ipython3",
   "version": "3.9.7"
  }
 },
 "nbformat": 4,
 "nbformat_minor": 5
}

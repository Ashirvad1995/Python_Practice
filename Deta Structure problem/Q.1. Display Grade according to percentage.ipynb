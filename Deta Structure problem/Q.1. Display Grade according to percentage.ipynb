{
 "cells": [
  {
   "cell_type": "code",
   "execution_count": null,
   "id": "87bc71c2",
   "metadata": {},
   "outputs": [],
   "source": [
    "#.1. Accept the percentage from the user and display the  grade according to the following criteria:\n",
    "\n",
    "#    Below 25 —- D\n",
    "#    25 to 45 —- C\n",
    "#    45 to 50 —- B\n",
    "#    50 to 60 –– B+\n",
    "#    60 to 80 —- A\n",
    "#    Above 80 –- A+\n",
    "\n",
    "\n",
    "\n",
    "        \n"
   ]
  },
  {
   "cell_type": "code",
   "execution_count": 2,
   "id": "0de42c46",
   "metadata": {},
   "outputs": [
    {
     "name": "stdout",
     "output_type": "stream",
     "text": [
      "Enter percentage :55\n",
      "grade = B+\n"
     ]
    }
   ],
   "source": [
    "x = float(input(\"Enter percentage :\"))\n",
    "        \n",
    "if x<=24:\n",
    "        print(\"grade = D\")\n",
    "if  25<=x<=45:\n",
    "        print(\"grade = C\")\n",
    "if  46<=x<=50:\n",
    "        print(\"grade = B\")\n",
    "if  51<=x<=60:\n",
    "        print(\"grade = B+\")\n",
    "if    61<=x<=80:\n",
    "        print(\"grade = A\")\n",
    "if x > 80:        \n",
    "    print('grade = A+')\n",
    "    "
   ]
  },
  {
   "cell_type": "code",
   "execution_count": null,
   "id": "e0490ad3",
   "metadata": {},
   "outputs": [],
   "source": []
  }
 ],
 "metadata": {
  "kernelspec": {
   "display_name": "Python 3 (ipykernel)",
   "language": "python",
   "name": "python3"
  },
  "language_info": {
   "codemirror_mode": {
    "name": "ipython",
    "version": 3
   },
   "file_extension": ".py",
   "mimetype": "text/x-python",
   "name": "python",
   "nbconvert_exporter": "python",
   "pygments_lexer": "ipython3",
   "version": "3.9.7"
  }
 },
 "nbformat": 4,
 "nbformat_minor": 5
}

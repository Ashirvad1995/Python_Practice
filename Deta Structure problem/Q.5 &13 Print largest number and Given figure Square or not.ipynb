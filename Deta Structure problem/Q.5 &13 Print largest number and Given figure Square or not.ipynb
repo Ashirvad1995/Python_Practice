{
 "cells": [
  {
   "cell_type": "code",
   "execution_count": 3,
   "id": "cd9dd082",
   "metadata": {},
   "outputs": [
    {
     "name": "stdout",
     "output_type": "stream",
     "text": [
      "enter number8\n",
      "enter number7\n",
      "enter number6\n",
      "8 is largest number\n"
     ]
    }
   ],
   "source": [
    "# 5. Find the largest number among three number with user input\n",
    "\n",
    "a = int(input(\"enter number\"))\n",
    "b = int(input(\"enter number\"))\n",
    "c = int(input(\"enter number\"))\n",
    "\n",
    "if a>b and a>c:\n",
    "    print(a,\"is largest number\")\n",
    "elif b>a and b>c:\n",
    "    print(b,\"is largest number\")\n",
    "else:\n",
    "    print(c,\"is largest number\")"
   ]
  },
  {
   "cell_type": "code",
   "execution_count": 5,
   "id": "6aaaed98",
   "metadata": {},
   "outputs": [
    {
     "name": "stdout",
     "output_type": "stream",
     "text": [
      "enter length :85\n",
      "enter breadth :48\n",
      "Figure is not square\n"
     ]
    }
   ],
   "source": [
    "# 13. Check whether the figure is square or not by giving length and breadth.\n",
    "\n",
    "length = int(input(\"enter length :\"))\n",
    "breadth= int(input(\"enter breadth :\"))\n",
    "\n",
    "if length == breadth:\n",
    "    print(\"Figure is square\")\n",
    "else:\n",
    "    print(\"Figure is not square\")"
   ]
  },
  {
   "cell_type": "code",
   "execution_count": null,
   "id": "d78e0ec4",
   "metadata": {},
   "outputs": [],
   "source": []
  }
 ],
 "metadata": {
  "kernelspec": {
   "display_name": "Python 3 (ipykernel)",
   "language": "python",
   "name": "python3"
  },
  "language_info": {
   "codemirror_mode": {
    "name": "ipython",
    "version": 3
   },
   "file_extension": ".py",
   "mimetype": "text/x-python",
   "name": "python",
   "nbconvert_exporter": "python",
   "pygments_lexer": "ipython3",
   "version": "3.9.7"
  }
 },
 "nbformat": 4,
 "nbformat_minor": 5
}

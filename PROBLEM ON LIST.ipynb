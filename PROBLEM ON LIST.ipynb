{
 "cells": [
  {
   "cell_type": "code",
   "execution_count": 1,
   "id": "b3e44eec",
   "metadata": {},
   "outputs": [],
   "source": [
    "# Q1. Create list of your name, age (float),fielsd,education,location. using []& list constructor."
   ]
  },
  {
   "cell_type": "code",
   "execution_count": 2,
   "id": "9d39f21e",
   "metadata": {},
   "outputs": [
    {
     "name": "stdout",
     "output_type": "stream",
     "text": [
      "['Ashirvad', 27.1, 'Mechanical_Engineering', 'BE', 'Vitawa']\n"
     ]
    }
   ],
   "source": [
    "#Ans1.\n",
    "x = [\"Ashirvad\",27.1,\"Mechanical_Engineering\",\"BE\",\"Vitawa\"]\n",
    "print(x)"
   ]
  },
  {
   "cell_type": "code",
   "execution_count": 3,
   "id": "3af731e0",
   "metadata": {},
   "outputs": [
    {
     "name": "stdout",
     "output_type": "stream",
     "text": [
      "['Ashirvad', 27.1, 'Mechanical_Engineering', 'BE', 'Vitawa']\n"
     ]
    }
   ],
   "source": [
    "#Ans2.\n",
    "y = list((\"Ashirvad\",27.1,\"Mechanical_Engineering\",\"BE\",\"Vitawa\"))\n",
    "print(y)"
   ]
  },
  {
   "cell_type": "code",
   "execution_count": 5,
   "id": "e59eadb9",
   "metadata": {},
   "outputs": [
    {
     "name": "stdout",
     "output_type": "stream",
     "text": [
      "Mechanical_Engineering\n"
     ]
    }
   ],
   "source": [
    "# Q2.Print only your field using index method.\n",
    "print(x[2])"
   ]
  },
  {
   "cell_type": "code",
   "execution_count": 7,
   "id": "d5f9fc93",
   "metadata": {},
   "outputs": [
    {
     "data": {
      "text/plain": [
       "4"
      ]
     },
     "execution_count": 7,
     "metadata": {},
     "output_type": "execute_result"
    }
   ],
   "source": [
    "# Q3. print the position of the location element\n",
    "x.index('Vitawa')"
   ]
  },
  {
   "cell_type": "code",
   "execution_count": 8,
   "id": "596bd6aa",
   "metadata": {},
   "outputs": [
    {
     "name": "stdout",
     "output_type": "stream",
     "text": [
      "['Mechanical_Engineering']\n"
     ]
    }
   ],
   "source": [
    "# Q4. print element between age and education\n",
    "print(x[2:3])"
   ]
  },
  {
   "cell_type": "code",
   "execution_count": 16,
   "id": "d5725161",
   "metadata": {},
   "outputs": [
    {
     "name": "stdout",
     "output_type": "stream",
     "text": [
      "['Desai', 'Mechanical_Engineering', 'BE', 'Vitawa']\n"
     ]
    }
   ],
   "source": [
    "# Q5. replace the element of name with surname\n",
    "x[0] = \"Desai\"\n",
    "print(x)"
   ]
  },
  {
   "cell_type": "code",
   "execution_count": 11,
   "id": "be249069",
   "metadata": {},
   "outputs": [
    {
     "name": "stdout",
     "output_type": "stream",
     "text": [
      "['Desai', 'age', 'Deta_science', 'BE', 'Vitawa']\n"
     ]
    }
   ],
   "source": [
    "# Q6. replace the element of name, age and field.\n",
    "x = [\"Ashirvad\",27.1,\"Mechanical_Engineering\",\"BE\",\"Vitawa\"]\n",
    "x[0:3] = \"Desai\", \"age\", \"Deta_science\"\n",
    "print(x)"
   ]
  },
  {
   "cell_type": "code",
   "execution_count": 14,
   "id": "71faebd4",
   "metadata": {},
   "outputs": [
    {
     "name": "stdout",
     "output_type": "stream",
     "text": [
      "['Desai', 'Mechanical_Engineering', 'BE', 'Vitawa']\n"
     ]
    }
   ],
   "source": [
    "# Q7. replace the element of name,and age with surname\n",
    "x = [\"Ashirvad\",27.1,\"Mechanical_Engineering\",\"BE\",\"Vitawa\"]\n",
    "x[0:2] = [\"Desai\"]\n",
    "print(x)"
   ]
  },
  {
   "cell_type": "code",
   "execution_count": 17,
   "id": "1f95260a",
   "metadata": {},
   "outputs": [
    {
     "name": "stdout",
     "output_type": "stream",
     "text": [
      "['Ashu', 'Desai', 'Mechanical_Engineering', 'BE', 'Vitawa']\n"
     ]
    }
   ],
   "source": [
    "# Q.8. replace the element of name with your nickname and surname\n",
    "x[0:1] = [\"Ashu\",\"Desai\"]\n",
    "print(x)"
   ]
  },
  {
   "cell_type": "code",
   "execution_count": 1,
   "id": "78ed63b6",
   "metadata": {},
   "outputs": [
    {
     "name": "stdout",
     "output_type": "stream",
     "text": [
      "['Ashirvad', 'Desai', 27.1, 'Mechanical_Engineering', 'BE', 'Vitawa']\n"
     ]
    }
   ],
   "source": [
    "# Q.9 add your surname in the list after your first name\n",
    "x = [\"Ashirvad\",27.1,\"Mechanical_Engineering\",\"BE\",\"Vitawa\"]\n",
    "\n",
    "x.insert(1, 'Desai')\n",
    "\n",
    "print(x)"
   ]
  },
  {
   "cell_type": "code",
   "execution_count": 2,
   "id": "df371313",
   "metadata": {},
   "outputs": [
    {
     "name": "stdout",
     "output_type": "stream",
     "text": [
      "['Ashirvad', 27.1, 'Mechanical_Engineering', 'BE', 'Vitawa', 'Playing_Cricket']\n"
     ]
    }
   ],
   "source": [
    "# 10 add your only one hobby at the end of the list.\n",
    "x = [\"Ashirvad\",27.1,\"Mechanical_Engineering\",\"BE\",\"Vitawa\"]\n",
    "\n",
    "x.append(\"Playing_Cricket\")\n",
    "\n",
    "print(x)"
   ]
  },
  {
   "cell_type": "code",
   "execution_count": 3,
   "id": "54e2b221",
   "metadata": {},
   "outputs": [
    {
     "name": "stdout",
     "output_type": "stream",
     "text": [
      "['Ashirvad', 27.1, 'Mechanical_Engineering', 'BE', 'Vitawa', 'reading', 'Swimming']\n"
     ]
    }
   ],
   "source": [
    "# 11 add your n-numbers of hobbies at the end of list\n",
    "\n",
    "x = [\"Ashirvad\",27.1,\"Mechanical_Engineering\",\"BE\",\"Vitawa\"]\n",
    "\n",
    "y = ['reading', 'Swimming']\n",
    "\n",
    "x.extend(y)\n",
    "\n",
    "print(x)"
   ]
  },
  {
   "cell_type": "code",
   "execution_count": 6,
   "id": "0606760b",
   "metadata": {},
   "outputs": [
    {
     "name": "stdout",
     "output_type": "stream",
     "text": [
      "['Ashirvad', 27.1, 'Mechanical_Engineering', 'BE']\n"
     ]
    }
   ],
   "source": [
    "# 12. remove your location from list.\n",
    "\n",
    "x = [\"Ashirvad\",27.1,\"Mechanical_Engineering\",\"BE\",\"Vitawa\"]\n",
    "\n",
    "x.remove(\"Vitawa\")\n",
    "\n",
    "print(x)"
   ]
  },
  {
   "cell_type": "code",
   "execution_count": 8,
   "id": "e1e0c0ee",
   "metadata": {},
   "outputs": [
    {
     "name": "stdout",
     "output_type": "stream",
     "text": [
      "['Ashirvad', 'Mechanical_Engineering', 'BE', 'Vitawa']\n",
      "['Ashirvad', 'Mechanical_Engineering', 'BE', 'Vitawa']\n"
     ]
    }
   ],
   "source": [
    "# 13. remove your age from list[using two diffrent methods]\n",
    "\n",
    "x = [\"Ashirvad\",27.1,\"Mechanical_Engineering\",\"BE\",\"Vitawa\"]\n",
    "\n",
    "# method 1. by using pop() method\n",
    "\n",
    "x.pop(1)\n",
    "\n",
    "print(x)\n",
    "\n",
    "x = [\"Ashirvad\",27.1,\"Mechanical_Engineering\",\"BE\",\"Vitawa\"]\n",
    "\n",
    "# method 2. by using del() method\n",
    "\n",
    "del x[1]\n",
    "\n",
    "print(x)"
   ]
  },
  {
   "cell_type": "code",
   "execution_count": 9,
   "id": "bc06587c",
   "metadata": {},
   "outputs": [
    {
     "name": "stdout",
     "output_type": "stream",
     "text": [
      "['Ashirvad', 27.1, 'Mechanical_Engineering', 'BE']\n"
     ]
    }
   ],
   "source": [
    "# 14 remove last element from the list\n",
    "\n",
    "x = [\"Ashirvad\",27.1,\"Mechanical_Engineering\",\"BE\",\"Vitawa\"]\n",
    "\n",
    "x.pop()\n",
    "\n",
    "print(x)"
   ]
  },
  {
   "cell_type": "code",
   "execution_count": 10,
   "id": "fd07dc84",
   "metadata": {},
   "outputs": [
    {
     "name": "stdout",
     "output_type": "stream",
     "text": [
      "[]\n"
     ]
    }
   ],
   "source": [
    "#15 remove all element from the list(empty)\n",
    "\n",
    "x = [\"Ashirvad\",27.1,\"Mechanical_Engineering\",\"BE\",\"Vitawa\"]\n",
    "\n",
    "x.clear()\n",
    "\n",
    "print(x)"
   ]
  },
  {
   "cell_type": "code",
   "execution_count": 12,
   "id": "cfb9a787",
   "metadata": {},
   "outputs": [
    {
     "ename": "NameError",
     "evalue": "name 'x' is not defined",
     "output_type": "error",
     "traceback": [
      "\u001b[1;31m---------------------------------------------------------------------------\u001b[0m",
      "\u001b[1;31mNameError\u001b[0m                                 Traceback (most recent call last)",
      "\u001b[1;32m~\\AppData\\Local\\Temp/ipykernel_8024/3686875433.py\u001b[0m in \u001b[0;36m<module>\u001b[1;34m\u001b[0m\n\u001b[0;32m      5\u001b[0m \u001b[1;32mdel\u001b[0m \u001b[0mx\u001b[0m\u001b[1;33m\u001b[0m\u001b[1;33m\u001b[0m\u001b[0m\n\u001b[0;32m      6\u001b[0m \u001b[1;33m\u001b[0m\u001b[0m\n\u001b[1;32m----> 7\u001b[1;33m \u001b[0mprint\u001b[0m\u001b[1;33m(\u001b[0m\u001b[0mx\u001b[0m\u001b[1;33m)\u001b[0m\u001b[1;33m\u001b[0m\u001b[1;33m\u001b[0m\u001b[0m\n\u001b[0m",
      "\u001b[1;31mNameError\u001b[0m: name 'x' is not defined"
     ]
    }
   ],
   "source": [
    "# 16 delete the list\n",
    "\n",
    "x = [\"Ashirvad\",27.1,\"Mechanical_Engineering\",\"BE\",\"Vitawa\"]\n",
    "\n",
    "del x\n",
    "\n",
    "print(x)"
   ]
  },
  {
   "cell_type": "code",
   "execution_count": 13,
   "id": "c9a12481",
   "metadata": {},
   "outputs": [
    {
     "name": "stdout",
     "output_type": "stream",
     "text": [
      "8\n"
     ]
    }
   ],
   "source": [
    "# 17. create a list of prime numbers till 20 and find the length of it\n",
    "\n",
    "x = [2, 3, 5, 7, 11, 13, 17, 19]\n",
    "\n",
    "print(len(x))"
   ]
  },
  {
   "cell_type": "code",
   "execution_count": 17,
   "id": "72a7597b",
   "metadata": {},
   "outputs": [
    {
     "name": "stdout",
     "output_type": "stream",
     "text": [
      "[2, 5, 7, 12, 18]\n",
      "[18, 12, 7, 5, 2]\n"
     ]
    }
   ],
   "source": [
    "# 18. create a list of 5,2,18,7,,12 and print in ascending and descending order.\n",
    "\n",
    "x = [5,2,18,7,12]\n",
    "\n",
    "x.sort()\n",
    "\n",
    "print(x)\n",
    "\n",
    "x.reverse()\n",
    "\n",
    "print(x)"
   ]
  },
  {
   "cell_type": "code",
   "execution_count": 18,
   "id": "05ffea43",
   "metadata": {},
   "outputs": [
    {
     "name": "stdout",
     "output_type": "stream",
     "text": [
      "[1, 2, 3, 4, 5, 6]\n"
     ]
    }
   ],
   "source": [
    "# 19. merge two list\n",
    "\n",
    "x = [1,2,3]\n",
    "y = [4,5,6]\n",
    "\n",
    "z = x+y\n",
    "\n",
    "print(z)"
   ]
  },
  {
   "cell_type": "code",
   "execution_count": 20,
   "id": "534f0115",
   "metadata": {},
   "outputs": [
    {
     "name": "stdout",
     "output_type": "stream",
     "text": [
      "[1, 2, 3]\n",
      "[1, 2, 3, 4]\n",
      "[1, 2, 3, 4]\n"
     ]
    }
   ],
   "source": [
    "# 20 make a deep copy of list and check whether it is copying deeply or not.\n",
    "x = [1,2,3]\n",
    "\n",
    "y = x\n",
    "\n",
    "print(y)\n",
    "\n",
    "x.append(4)\n",
    "\n",
    "print(x)\n",
    "\n",
    "print(y)\n"
   ]
  },
  {
   "cell_type": "code",
   "execution_count": 22,
   "id": "d27d68fc",
   "metadata": {},
   "outputs": [
    {
     "name": "stdout",
     "output_type": "stream",
     "text": [
      "[1, 2, 3]\n",
      "[1, 2, 3, 4]\n",
      "[1, 2, 3]\n"
     ]
    }
   ],
   "source": [
    "# 21. make a copy of list in that way  making changes in one list will not affect to the another list\n",
    "\n",
    "x = [1,2,3]\n",
    "\n",
    "y = x.copy()\n",
    "\n",
    "print(y)\n",
    "\n",
    "x.append(4)\n",
    "\n",
    "print(x)\n",
    "\n",
    "print(y)\n"
   ]
  },
  {
   "cell_type": "code",
   "execution_count": 26,
   "id": "bda5713b",
   "metadata": {},
   "outputs": [
    {
     "name": "stdout",
     "output_type": "stream",
     "text": [
      "[1, 2, 3, 4]\n",
      "[1, 2, 3]\n",
      "[1, 2, 3, 5]\n",
      "[2, 3, 5]\n"
     ]
    }
   ],
   "source": [
    "# 22. Take any example to  explain stack and queue.\n",
    "\n",
    "x = [1,2,3] ## this is for stack\n",
    "\n",
    "x.append(4)\n",
    "\n",
    "print(x)\n",
    "\n",
    "x.pop()\n",
    "\n",
    "print(x)\n",
    "\n",
    "x.append(5) ## this is for Queue\n",
    "\n",
    "print(x)\n",
    "\n",
    "x.pop(0)\n",
    "\n",
    "print(x)\n"
   ]
  },
  {
   "cell_type": "code",
   "execution_count": 31,
   "id": "675c0e14",
   "metadata": {},
   "outputs": [
    {
     "name": "stdout",
     "output_type": "stream",
     "text": [
      "[(1, 'Ashirvad', 27, 95), (2, 'Shubhangi', 57, 65), (3, 'Narayan', 62, 60), (4, 'Siddhesh', 29, 93)]\n"
     ]
    }
   ],
   "source": [
    "# 23. zip four list contain with natural number your name,age, rollno.\n",
    "\n",
    "natural_number = [1, 2, 3, 4]\n",
    "name = ['Ashirvad','Shubhangi','Narayan','Siddhesh']\n",
    "age  = [27, 57, 62, 29]\n",
    "roll_no = [95, 65, 60, 93]\n",
    "\n",
    "new1 = zip(natural_number,name,age,roll_no)\n",
    "\n",
    "new1 = list(new1)\n",
    "\n",
    "print(new1)"
   ]
  },
  {
   "cell_type": "code",
   "execution_count": 32,
   "id": "79e0537b",
   "metadata": {},
   "outputs": [
    {
     "name": "stdout",
     "output_type": "stream",
     "text": [
      "(1, 2, 3, 4)\n",
      "('Ashirvad', 'Shubhangi', 'Narayan', 'Siddhesh')\n",
      "(27, 57, 62, 29)\n",
      "(95, 65, 60, 93)\n"
     ]
    }
   ],
   "source": [
    "#24.unzip the above list\n",
    "natural_numberz,namez,agez,roll_noz = zip(*new1)\n",
    "\n",
    "print(natural_numberz)\n",
    "print(namez)\n",
    "print(agez)\n",
    "print(roll_noz)\n",
    "\n"
   ]
  },
  {
   "cell_type": "code",
   "execution_count": 29,
   "id": "fa412a19",
   "metadata": {},
   "outputs": [
    {
     "name": "stdout",
     "output_type": "stream",
     "text": [
      "[('bhakti', 20), ('shweta', 24.22), ('aishwarya', 27)]\n"
     ]
    }
   ],
   "source": [
    "a = ['bhakti','shweta','aishwarya','komal']\n",
    "b = [20,24.22,27]\n",
    "mapped = zip(a,b)\n",
    "mapped = list(mapped)\n",
    "print(mapped)"
   ]
  },
  {
   "cell_type": "code",
   "execution_count": null,
   "id": "14cd87fc",
   "metadata": {},
   "outputs": [],
   "source": []
  }
 ],
 "metadata": {
  "kernelspec": {
   "display_name": "Python 3 (ipykernel)",
   "language": "python",
   "name": "python3"
  },
  "language_info": {
   "codemirror_mode": {
    "name": "ipython",
    "version": 3
   },
   "file_extension": ".py",
   "mimetype": "text/x-python",
   "name": "python",
   "nbconvert_exporter": "python",
   "pygments_lexer": "ipython3",
   "version": "3.9.7"
  }
 },
 "nbformat": 4,
 "nbformat_minor": 5
}

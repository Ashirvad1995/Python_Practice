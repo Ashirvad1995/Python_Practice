{
 "cells": [
  {
   "cell_type": "code",
   "execution_count": 1,
   "id": "476a1fa8",
   "metadata": {},
   "outputs": [
    {
     "name": "stdout",
     "output_type": "stream",
     "text": [
      "Select an operations :\n",
      "1. Addition\n",
      "2. Substraction\n",
      "3. Multiflication\n",
      "4. Division\n",
      "5. Remiander\n",
      "6. Absolute div\n",
      "Enter a number : 74\n",
      "Enter a number : 84\n",
      "Enter a number as per the required operation : 5\n",
      "The reminder is  74.0\n",
      "\n",
      "Want to performe another operation?(Y/N)N\n",
      "OFF\n"
     ]
    }
   ],
   "source": [
    "# 1. Make a calculator using function.\n",
    "def add(a,b):\n",
    "    return(a+b)\n",
    "def sub(a,b):\n",
    "    return(a-b)\n",
    "def multi(a,b):\n",
    "    return(a*b)\n",
    "def div(a,b):\n",
    "    return(a/b)\n",
    "def remn(a,b):\n",
    "    return(a%b)\n",
    "def fdiv(a,b):\n",
    "    return(a//b)\n",
    "print(\"Select an operations :\")\n",
    "print(\"1. Addition\")\n",
    "print(\"2. Substraction\")\n",
    "print(\"3. Multiflication\")\n",
    "print(\"4. Division\")\n",
    "print(\"5. Remiander\")\n",
    "print(\"6. Absolute div\")\n",
    "while True:\n",
    "    a = float(input(\"Enter a number : \"))\n",
    "    b = float(input(\"Enter a number : \"))\n",
    "    choose = int(input(\"Enter a number as per the required operation : \"))\n",
    "    if choose in (1,2,3,4,5,6):\n",
    "        if choose ==1:\n",
    "            print(\"The addition is \", add(a,b))\n",
    "        elif choose ==2:\n",
    "            print(\"The Substrction is\", sub(a,b))\n",
    "        elif choose ==3:\n",
    "            print(\"The Multiflication is \",multi(a,b))\n",
    "        elif choose ==4:\n",
    "            print(\"The division is \", div(a,b))\n",
    "        elif choose ==5:\n",
    "            print(\"The reminder is \", remn(a,b))\n",
    "        elif choose ==6:\n",
    "            print(\"The absolute div is \", fdiv(a,b))\n",
    "        else: print(\"Invalide number.\")\n",
    "        next=input(\"\\nWant to performe another operation?(Y/N)\")\n",
    "        if next == 'N':\n",
    "            print(\"OFF\")\n",
    "            break\n",
    "    else: print(\"Invalide Number\")\n"
   ]
  },
  {
   "cell_type": "code",
   "execution_count": null,
   "id": "020ba9a7",
   "metadata": {},
   "outputs": [],
   "source": []
  }
 ],
 "metadata": {
  "kernelspec": {
   "display_name": "Python 3 (ipykernel)",
   "language": "python",
   "name": "python3"
  },
  "language_info": {
   "codemirror_mode": {
    "name": "ipython",
    "version": 3
   },
   "file_extension": ".py",
   "mimetype": "text/x-python",
   "name": "python",
   "nbconvert_exporter": "python",
   "pygments_lexer": "ipython3",
   "version": "3.9.7"
  }
 },
 "nbformat": 4,
 "nbformat_minor": 5
}

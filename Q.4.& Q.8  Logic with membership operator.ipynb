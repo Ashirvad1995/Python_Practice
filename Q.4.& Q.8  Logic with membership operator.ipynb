{
 "cells": [
  {
   "cell_type": "code",
   "execution_count": 1,
   "id": "f1bd784b",
   "metadata": {},
   "outputs": [
    {
     "name": "stdout",
     "output_type": "stream",
     "text": [
      "'a' is not in Python\n"
     ]
    }
   ],
   "source": [
    "# 4. Check whether 'a' is in 'Python' string or not.\n",
    "\n",
    "x = \"Python\"\n",
    "\n",
    "if 'a' in x:\n",
    "    print(\"a' is in Python\")\n",
    "else:\n",
    "    print(\"'a' is not in Python\")"
   ]
  },
  {
   "cell_type": "code",
   "execution_count": 2,
   "id": "e9994ff6",
   "metadata": {},
   "outputs": [
    {
     "name": "stdout",
     "output_type": "stream",
     "text": [
      "Enter any letterA\n",
      "Given letter is vowel\n"
     ]
    }
   ],
   "source": [
    "# 8. Check whether the letter is vowel or not.\n",
    "\n",
    "x = ('a','i','o','u','e','A','I','O','U','E')\n",
    "\n",
    "y = input((\"Enter any letter : \"))\n",
    "\n",
    "if y in x:\n",
    "    print(\"Given letter is vowel\")\n",
    "else:\n",
    "    print(\"Given letter is not vowel\")"
   ]
  },
  {
   "cell_type": "code",
   "execution_count": null,
   "id": "b0f387e1",
   "metadata": {},
   "outputs": [],
   "source": []
  }
 ],
 "metadata": {
  "kernelspec": {
   "display_name": "Python 3 (ipykernel)",
   "language": "python",
   "name": "python3"
  },
  "language_info": {
   "codemirror_mode": {
    "name": "ipython",
    "version": 3
   },
   "file_extension": ".py",
   "mimetype": "text/x-python",
   "name": "python",
   "nbconvert_exporter": "python",
   "pygments_lexer": "ipython3",
   "version": "3.9.7"
  }
 },
 "nbformat": 4,
 "nbformat_minor": 5
}

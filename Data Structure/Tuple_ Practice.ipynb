{
 "cells": [
  {
   "cell_type": "code",
   "execution_count": 1,
   "id": "9bfd3e9a",
   "metadata": {},
   "outputs": [],
   "source": [
    "# Tuple"
   ]
  },
  {
   "cell_type": "code",
   "execution_count": 2,
   "id": "5c977349",
   "metadata": {},
   "outputs": [],
   "source": [
    "# Tuple is orderd hetrogeneous collection of diffrent type of items.\n",
    "# Charctersticks of Tuple\n",
    "# 1. Orderd\n",
    "# 2. Immutable\n",
    "# 3. Hetrogeneous\n",
    "# 4. Duplictes"
   ]
  },
  {
   "cell_type": "code",
   "execution_count": 3,
   "id": "b45b05ee",
   "metadata": {},
   "outputs": [],
   "source": [
    "# Tuple can created in two way:\n",
    "# 1. By using square bracket [].\n",
    "# 2. By using tuple() constructor."
   ]
  },
  {
   "cell_type": "code",
   "execution_count": 6,
   "id": "5470f6d6",
   "metadata": {},
   "outputs": [
    {
     "name": "stdout",
     "output_type": "stream",
     "text": [
      "<class 'tuple'>\n",
      "(1, 2, 3, 4)\n"
     ]
    }
   ],
   "source": [
    "# 1. By using square bracket [].\n",
    "\n",
    "tuple1 = (1,2,3,4)\n",
    "print(type(tuple1))\n",
    "print(tuple1)"
   ]
  },
  {
   "cell_type": "code",
   "execution_count": 5,
   "id": "4fbf81d5",
   "metadata": {},
   "outputs": [
    {
     "name": "stdout",
     "output_type": "stream",
     "text": [
      "<class 'tuple'>\n",
      "(1, 2, 3, 4)\n"
     ]
    }
   ],
   "source": [
    "# 2. By using tuple() constructor.\n",
    "tuple1 = tuple((1,2,3,4))\n",
    "print(type(tuple1))\n",
    "print(tuple1)"
   ]
  },
  {
   "cell_type": "code",
   "execution_count": 8,
   "id": "c3e53341",
   "metadata": {},
   "outputs": [
    {
     "name": "stdout",
     "output_type": "stream",
     "text": [
      "(1, 2.2, 'Ashirvad', True, 'abc')\n"
     ]
    }
   ],
   "source": [
    "# tuple is Hetrogeneous\n",
    "\n",
    "tuple1 = (1, 2.2, 'Ashirvad', True, 'abc')\n",
    "print(tuple1)"
   ]
  },
  {
   "cell_type": "code",
   "execution_count": 9,
   "id": "c43ec506",
   "metadata": {},
   "outputs": [
    {
     "name": "stdout",
     "output_type": "stream",
     "text": [
      "<class 'str'>\n",
      "Hello\n"
     ]
    }
   ],
   "source": [
    "# without comma ','\n",
    "\n",
    "single_tuple = (\"Hello\")\n",
    "\n",
    "print(type(single_tuple))\n",
    "# Output class 'str'\n",
    "print(single_tuple)"
   ]
  },
  {
   "cell_type": "code",
   "execution_count": 10,
   "id": "d7d7f7eb",
   "metadata": {},
   "outputs": [
    {
     "name": "stdout",
     "output_type": "stream",
     "text": [
      "<class 'tuple'>\n",
      "('Hello',)\n"
     ]
    }
   ],
   "source": [
    "# with comma ','\n",
    "single_tuple = (\"Hello\", )\n",
    "print(type(single_tuple))\n",
    "# output class tuple\n",
    "print(single_tuple)"
   ]
  },
  {
   "cell_type": "code",
   "execution_count": 11,
   "id": "1b76bf95",
   "metadata": {},
   "outputs": [
    {
     "name": "stdout",
     "output_type": "stream",
     "text": [
      "(1, 2, 1, 2, 5, 8, 9)\n"
     ]
    }
   ],
   "source": [
    "# duplicates\n",
    "\n",
    "x = (1,2,1,2,5,8,9)\n",
    "\n",
    "print(x)"
   ]
  },
  {
   "cell_type": "code",
   "execution_count": 12,
   "id": "b5e0565a",
   "metadata": {},
   "outputs": [
    {
     "name": "stdout",
     "output_type": "stream",
     "text": [
      "7\n"
     ]
    }
   ],
   "source": [
    "# length of a tuple\n",
    "\n",
    "x = (1,2,1,2,5,8,9)\n",
    "print(len(x))"
   ]
  },
  {
   "cell_type": "code",
   "execution_count": 14,
   "id": "8da29481",
   "metadata": {},
   "outputs": [
    {
     "name": "stdout",
     "output_type": "stream",
     "text": [
      "banana\n"
     ]
    }
   ],
   "source": [
    "# Access Tuple Items\n",
    "#positive indexing\n",
    "thistuple = (\"apple\",\"banana\",\"cherry\")\n",
    "print(thistuple[1])"
   ]
  },
  {
   "cell_type": "code",
   "execution_count": 15,
   "id": "1457d2e4",
   "metadata": {},
   "outputs": [
    {
     "name": "stdout",
     "output_type": "stream",
     "text": [
      "cherry\n"
     ]
    }
   ],
   "source": [
    "#negative indexing\n",
    "thistuple = (\"apple\",\"banana\",\"cherry\")\n",
    "print(thistuple[-1])"
   ]
  },
  {
   "cell_type": "code",
   "execution_count": 16,
   "id": "351b4063",
   "metadata": {},
   "outputs": [
    {
     "name": "stdout",
     "output_type": "stream",
     "text": [
      "('cherry', 'kiwi')\n"
     ]
    }
   ],
   "source": [
    "#Slicing\n",
    "thistuple = (\"apple\",\"banana\",\"cherry\",\"kiwi\",\"melom\",\"mango\")\n",
    "print(thistuple[2:4])"
   ]
  },
  {
   "cell_type": "code",
   "execution_count": 17,
   "id": "4264af39",
   "metadata": {},
   "outputs": [
    {
     "name": "stdout",
     "output_type": "stream",
     "text": [
      "('banana', 'cherry', 'kiwi', 'melom')\n"
     ]
    }
   ],
   "source": [
    "print(thistuple[1:5])"
   ]
  },
  {
   "cell_type": "code",
   "execution_count": 18,
   "id": "363e9db8",
   "metadata": {},
   "outputs": [
    {
     "name": "stdout",
     "output_type": "stream",
     "text": [
      "4\n"
     ]
    }
   ],
   "source": [
    "# for finding index\n",
    "\n",
    "x = (1,2,3,4,5)\n",
    "\n",
    "print(x.index(5))"
   ]
  },
  {
   "cell_type": "code",
   "execution_count": 19,
   "id": "ef466152",
   "metadata": {},
   "outputs": [
    {
     "ename": "TypeError",
     "evalue": "'tuple' object does not support item assignment",
     "output_type": "error",
     "traceback": [
      "\u001b[1;31m---------------------------------------------------------------------------\u001b[0m",
      "\u001b[1;31mTypeError\u001b[0m                                 Traceback (most recent call last)",
      "\u001b[1;32m~\\AppData\\Local\\Temp/ipykernel_23260/1261583794.py\u001b[0m in \u001b[0;36m<module>\u001b[1;34m\u001b[0m\n\u001b[0;32m      1\u001b[0m \u001b[1;31m# Immutable\u001b[0m\u001b[1;33m\u001b[0m\u001b[1;33m\u001b[0m\u001b[0m\n\u001b[1;32m----> 2\u001b[1;33m \u001b[0mx\u001b[0m\u001b[1;33m[\u001b[0m\u001b[1;36m0\u001b[0m\u001b[1;33m]\u001b[0m \u001b[1;33m=\u001b[0m \u001b[1;36m10\u001b[0m\u001b[1;33m\u001b[0m\u001b[1;33m\u001b[0m\u001b[0m\n\u001b[0m",
      "\u001b[1;31mTypeError\u001b[0m: 'tuple' object does not support item assignment"
     ]
    }
   ],
   "source": [
    "# Immutable\n",
    "x[0] = 10"
   ]
  },
  {
   "cell_type": "code",
   "execution_count": 20,
   "id": "90a25054",
   "metadata": {},
   "outputs": [
    {
     "name": "stdout",
     "output_type": "stream",
     "text": [
      "True\n",
      "False\n"
     ]
    }
   ],
   "source": [
    "# cheking whether item 4 exist in tuple\n",
    "\n",
    "print(4 in x)\n",
    "print(40 in x)"
   ]
  },
  {
   "cell_type": "code",
   "execution_count": 21,
   "id": "e2e13ffb",
   "metadata": {},
   "outputs": [],
   "source": [
    "# Tuple method and Functions used with tuple.\n",
    "# we can convert the tuple to a list, add items, and then convert it back to a tuple."
   ]
  },
  {
   "cell_type": "code",
   "execution_count": 23,
   "id": "df2109f7",
   "metadata": {},
   "outputs": [
    {
     "name": "stdout",
     "output_type": "stream",
     "text": [
      "(1, 2, 3, 5, 4)\n",
      "[1, 2, 3, 5, 4]\n",
      "[1, 2, 3, 5, 4, 6]\n",
      "(1, 2, 3, 5, 4, 6)\n"
     ]
    }
   ],
   "source": [
    "x = (1, 2, 3, 5, 4)\n",
    "print(x)\n",
    "x1 = list(x)\n",
    "print(x1)\n",
    "type(x1)\n",
    "x1.append(6)\n",
    "print(x1)\n",
    "x = tuple(x1)\n",
    "print(x)"
   ]
  },
  {
   "cell_type": "code",
   "execution_count": 24,
   "id": "2147c326",
   "metadata": {},
   "outputs": [
    {
     "name": "stdout",
     "output_type": "stream",
     "text": [
      "(1, 2, 3, [78, 54], 4, 7)\n",
      "(1, 2, 3, [78, 58], 4, 7)\n"
     ]
    }
   ],
   "source": [
    "# list in tuple can modify.\n",
    "x = (1,2,3,[78,54],4,7)\n",
    "print(x)\n",
    "\n",
    "x[3][1] = 58\n",
    "\n",
    "print(x)"
   ]
  },
  {
   "cell_type": "code",
   "execution_count": 25,
   "id": "14812cfd",
   "metadata": {},
   "outputs": [
    {
     "ename": "NameError",
     "evalue": "name 'x' is not defined",
     "output_type": "error",
     "traceback": [
      "\u001b[1;31m---------------------------------------------------------------------------\u001b[0m",
      "\u001b[1;31mNameError\u001b[0m                                 Traceback (most recent call last)",
      "\u001b[1;32m~\\AppData\\Local\\Temp/ipykernel_23260/972123590.py\u001b[0m in \u001b[0;36m<module>\u001b[1;34m\u001b[0m\n\u001b[0;32m      6\u001b[0m \u001b[1;32mdel\u001b[0m \u001b[0mx\u001b[0m\u001b[1;33m\u001b[0m\u001b[1;33m\u001b[0m\u001b[0m\n\u001b[0;32m      7\u001b[0m \u001b[1;33m\u001b[0m\u001b[0m\n\u001b[1;32m----> 8\u001b[1;33m \u001b[0mprint\u001b[0m\u001b[1;33m(\u001b[0m\u001b[0mx\u001b[0m\u001b[1;33m)\u001b[0m\u001b[1;33m\u001b[0m\u001b[1;33m\u001b[0m\u001b[0m\n\u001b[0m",
      "\u001b[1;31mNameError\u001b[0m: name 'x' is not defined"
     ]
    }
   ],
   "source": [
    "# the delete keyword will delete entire tuple.\n",
    "\n",
    "x = (1, 2, 3, 5, 4)\n",
    "\n",
    "del x\n",
    "\n",
    "print(x)\n"
   ]
  },
  {
   "cell_type": "code",
   "execution_count": 26,
   "id": "8e1a01b7",
   "metadata": {},
   "outputs": [
    {
     "name": "stdout",
     "output_type": "stream",
     "text": [
      "(1, 2, 3, 5, 4)\n",
      "[1, 2, 3, 5, 4]\n",
      "[1, 2, 3, 4]\n",
      "(1, 2, 3, 4)\n"
     ]
    }
   ],
   "source": [
    "# Removing items from a tuple.\n",
    "x = (1, 2, 3, 5, 4)\n",
    "print(x)\n",
    "\n",
    "x1 = list(x)\n",
    "print(x1)\n",
    "\n",
    "x1.remove(5)\n",
    "print(x1)\n",
    "\n",
    "x = tuple(x1)\n",
    "print(x)"
   ]
  },
  {
   "cell_type": "code",
   "execution_count": 27,
   "id": "22dac3a9",
   "metadata": {},
   "outputs": [
    {
     "name": "stdout",
     "output_type": "stream",
     "text": [
      "3\n"
     ]
    }
   ],
   "source": [
    "x = (1, 2, 86, 95, 86, 74, 86)\n",
    "# Count all occurrences of item 86\n",
    "\n",
    "print(x.count(86))"
   ]
  },
  {
   "cell_type": "code",
   "execution_count": 28,
   "id": "a861196b",
   "metadata": {},
   "outputs": [
    {
     "name": "stdout",
     "output_type": "stream",
     "text": [
      "(1, 2, 3, 4, 5, 6, 7, 8, 9, 10)\n"
     ]
    }
   ],
   "source": [
    "# joining of tuple\n",
    "\n",
    "x1 = (1,2,3,4,5)\n",
    "x2 = (6,7,8,9,10)\n",
    "\n",
    "# concatenate tuples using + operator\n",
    "\n",
    "x3 = x1+x2\n",
    "\n",
    "print(x3)"
   ]
  },
  {
   "cell_type": "code",
   "execution_count": 29,
   "id": "9d215a37",
   "metadata": {},
   "outputs": [
    {
     "name": "stdout",
     "output_type": "stream",
     "text": [
      "(1, 2, 3, 4, 5, 6, 7, 8, 9, 10)\n"
     ]
    }
   ],
   "source": [
    "# using sum function\n",
    "x1 = (1,2,3,4,5)\n",
    "x2 = (6,7,8,9,10)\n",
    "# using sum function.\n",
    "\n",
    "x3 = sum((x1, x2), ())\n",
    "\n",
    "print(x3)\n"
   ]
  },
  {
   "cell_type": "code",
   "execution_count": 31,
   "id": "f0d2b3eb",
   "metadata": {},
   "outputs": [
    {
     "ename": "TypeError",
     "evalue": "'builtin_function_or_method' object is not subscriptable",
     "output_type": "error",
     "traceback": [
      "\u001b[1;31m---------------------------------------------------------------------------\u001b[0m",
      "\u001b[1;31mTypeError\u001b[0m                                 Traceback (most recent call last)",
      "\u001b[1;32m~\\AppData\\Local\\Temp/ipykernel_23260/2217690938.py\u001b[0m in \u001b[0;36m<module>\u001b[1;34m\u001b[0m\n\u001b[0;32m      1\u001b[0m \u001b[0mx1\u001b[0m \u001b[1;33m=\u001b[0m \u001b[1;33m[\u001b[0m\u001b[1;36m1\u001b[0m\u001b[1;33m,\u001b[0m\u001b[1;36m2\u001b[0m\u001b[1;33m,\u001b[0m\u001b[1;36m3\u001b[0m\u001b[1;33m,\u001b[0m\u001b[1;36m4\u001b[0m\u001b[1;33m,\u001b[0m\u001b[1;36m5\u001b[0m\u001b[1;33m]\u001b[0m\u001b[1;33m\u001b[0m\u001b[1;33m\u001b[0m\u001b[0m\n\u001b[0;32m      2\u001b[0m \u001b[0mx2\u001b[0m \u001b[1;33m=\u001b[0m \u001b[1;33m[\u001b[0m\u001b[1;36m6\u001b[0m\u001b[1;33m,\u001b[0m\u001b[1;36m7\u001b[0m\u001b[1;33m,\u001b[0m\u001b[1;36m8\u001b[0m\u001b[1;33m,\u001b[0m\u001b[1;36m9\u001b[0m\u001b[1;33m,\u001b[0m\u001b[1;36m10\u001b[0m\u001b[1;33m]\u001b[0m\u001b[1;33m\u001b[0m\u001b[1;33m\u001b[0m\u001b[0m\n\u001b[1;32m----> 3\u001b[1;33m \u001b[0mx3\u001b[0m \u001b[1;33m=\u001b[0m \u001b[0msum\u001b[0m\u001b[1;33m[\u001b[0m\u001b[1;33m[\u001b[0m\u001b[0mx1\u001b[0m\u001b[1;33m,\u001b[0m \u001b[0mx2\u001b[0m\u001b[1;33m]\u001b[0m\u001b[1;33m,\u001b[0m\u001b[1;33m[\u001b[0m\u001b[1;33m]\u001b[0m\u001b[1;33m]\u001b[0m\u001b[1;33m\u001b[0m\u001b[1;33m\u001b[0m\u001b[0m\n\u001b[0m\u001b[0;32m      4\u001b[0m \u001b[0mprint\u001b[0m\u001b[1;33m(\u001b[0m\u001b[0mx3\u001b[0m\u001b[1;33m)\u001b[0m\u001b[1;33m\u001b[0m\u001b[1;33m\u001b[0m\u001b[0m\n",
      "\u001b[1;31mTypeError\u001b[0m: 'builtin_function_or_method' object is not subscriptable"
     ]
    }
   ],
   "source": [
    "x1 = [1,2,3,4,5]\n",
    "x2 = [6,7,8,9,10]\n",
    "x3 = sum[[x1, x2],[]]\n",
    "print(x3)"
   ]
  },
  {
   "cell_type": "code",
   "execution_count": 34,
   "id": "0ff04694",
   "metadata": {},
   "outputs": [
    {
     "name": "stdout",
     "output_type": "stream",
     "text": [
      "94\n",
      "25\n"
     ]
    }
   ],
   "source": [
    "# The Maximum value in a integer tuple\n",
    "x = (25, 67, 86, 94)\n",
    "\n",
    "print(max(x))\n",
    "\n",
    "# The Minimum value in a integer tuple\n",
    "\n",
    "print(min(x))\n"
   ]
  },
  {
   "cell_type": "code",
   "execution_count": 35,
   "id": "b23d144d",
   "metadata": {},
   "outputs": [
    {
     "name": "stdout",
     "output_type": "stream",
     "text": [
      "ghj\n",
      "ADS\n"
     ]
    }
   ],
   "source": [
    "# The Maximum value in a string tuple\n",
    "\n",
    "x = ('asd','ghj','ADS')\n",
    "\n",
    "print(max(x))\n",
    "\n",
    "# The Minimum value in a string tuple\n",
    "\n",
    "print(min(x))"
   ]
  },
  {
   "cell_type": "code",
   "execution_count": 36,
   "id": "7b3eecad",
   "metadata": {},
   "outputs": [
    {
     "ename": "TypeError",
     "evalue": "'>' not supported between instances of 'str' and 'float'",
     "output_type": "error",
     "traceback": [
      "\u001b[1;31m---------------------------------------------------------------------------\u001b[0m",
      "\u001b[1;31mTypeError\u001b[0m                                 Traceback (most recent call last)",
      "\u001b[1;32m~\\AppData\\Local\\Temp/ipykernel_23260/2341321986.py\u001b[0m in \u001b[0;36m<module>\u001b[1;34m\u001b[0m\n\u001b[0;32m      4\u001b[0m \u001b[0mx\u001b[0m \u001b[1;33m=\u001b[0m \u001b[1;33m(\u001b[0m\u001b[1;36m1\u001b[0m\u001b[1;33m,\u001b[0m \u001b[1;36m3.5\u001b[0m\u001b[1;33m,\u001b[0m \u001b[1;34m'abc'\u001b[0m\u001b[1;33m,\u001b[0m\u001b[1;32mTrue\u001b[0m\u001b[1;33m)\u001b[0m\u001b[1;33m\u001b[0m\u001b[1;33m\u001b[0m\u001b[0m\n\u001b[0;32m      5\u001b[0m \u001b[1;33m\u001b[0m\u001b[0m\n\u001b[1;32m----> 6\u001b[1;33m \u001b[0mprint\u001b[0m\u001b[1;33m(\u001b[0m\u001b[0mmax\u001b[0m\u001b[1;33m(\u001b[0m\u001b[0mx\u001b[0m\u001b[1;33m)\u001b[0m\u001b[1;33m)\u001b[0m\u001b[1;33m\u001b[0m\u001b[1;33m\u001b[0m\u001b[0m\n\u001b[0m",
      "\u001b[1;31mTypeError\u001b[0m: '>' not supported between instances of 'str' and 'float'"
     ]
    }
   ],
   "source": [
    "#can't use on heterogenous tuple\n",
    "# function of max & min cannot use in hetrogeneous tuple /list\n",
    "\n",
    "x = (1, 3.5, 'abc',True)\n",
    "\n",
    "print(max(x))"
   ]
  },
  {
   "cell_type": "code",
   "execution_count": null,
   "id": "9cef4bd2",
   "metadata": {},
   "outputs": [],
   "source": [
    "# Note\n",
    "#1. There are no append() or extend to add items and similarly no remove() or pop() method to remove itmes.\n",
    "#   This ensure that dada is write protected. As the tuple are unchangeble they cab be used to represent read only or fixed data\n",
    "#   that does not change.\n",
    "#2. As they are immutable they can used as a key for the dictionaries. while list cannot be used for this purpose.\n",
    "#3. As they are ummutable, the search operation is much faster than the list. this is beacause id of the items remains constant.\n",
    "#4. Tuple contain hetrogeneous data that offers huge flexibility in data that contains combinations of data type\n",
    "#   like alphanumeric characters. "
   ]
  }
 ],
 "metadata": {
  "kernelspec": {
   "display_name": "Python 3 (ipykernel)",
   "language": "python",
   "name": "python3"
  },
  "language_info": {
   "codemirror_mode": {
    "name": "ipython",
    "version": 3
   },
   "file_extension": ".py",
   "mimetype": "text/x-python",
   "name": "python",
   "nbconvert_exporter": "python",
   "pygments_lexer": "ipython3",
   "version": "3.9.7"
  }
 },
 "nbformat": 4,
 "nbformat_minor": 5
}
